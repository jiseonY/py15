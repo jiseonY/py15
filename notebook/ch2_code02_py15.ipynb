{
  "nbformat": 4,
  "nbformat_minor": 0,
  "metadata": {
    "colab": {
      "name": "ch2_code02_py15.ipynb",
      "provenance": [],
      "collapsed_sections": [],
      "include_colab_link": true
    },
    "kernelspec": {
      "display_name": "Python 3",
      "language": "python",
      "name": "python3"
    },
    "language_info": {
      "codemirror_mode": {
        "name": "ipython",
        "version": 3
      },
      "file_extension": ".py",
      "mimetype": "text/x-python",
      "name": "python",
      "nbconvert_exporter": "python",
      "pygments_lexer": "ipython3",
      "version": "3.7.5"
    }
  },
  "cells": [
    {
      "cell_type": "markdown",
      "metadata": {
        "id": "view-in-github",
        "colab_type": "text"
      },
      "source": [
        "<a href=\"https://colab.research.google.com/github/jiseonY/py15/blob/master/notebook/ch2_code02_py15.ipynb\" target=\"_parent\"><img src=\"https://colab.research.google.com/assets/colab-badge.svg\" alt=\"Open In Colab\"/></a>"
      ]
    },
    {
      "cell_type": "markdown",
      "metadata": {
        "colab_type": "text",
        "id": "H4jNE-BMAK3f"
      },
      "source": [
        "# ch2_code02.ipynb\n",
        "## py15  (change to your id)\n",
        "- List\n",
        "- Tuple"
      ]
    },
    {
      "cell_type": "code",
      "metadata": {
        "colab_type": "code",
        "id": "hTRRKc56En6p",
        "colab": {
          "base_uri": "https://localhost:8080/",
          "height": 52
        },
        "outputId": "52537a05-c1e2-4204-e2b3-ccfd37e5dc05"
      },
      "source": [
        "# ch2_04_list.py\n",
        "\n",
        "print(\"리스트: list 란?\")\n",
        "odd = [1, 3, 5, 7, 9]   #(), {}, {}\n",
        "odd, type(odd)\n",
        "# 여러 가지 리스트\n",
        "a = []   # list 초기화, null list\n",
        "a\n",
        "b = [1, 2, 3]\n",
        "b\n",
        "c = ['Life', 'is', 'too', 'short']\n",
        "c\n",
        "d = [1, 2, 'Life', 'is']  #inhomogeneous elements\n",
        "d\n",
        "e = [1, 2, ['Life', 'is']]  #nested list\n",
        "print(\"e = \", e, \"d = \", d)\n",
        "#엄격한 룰을 따지지않음. 편하게 코딩하면 됨."
      ],
      "execution_count": 12,
      "outputs": [
        {
          "output_type": "stream",
          "text": [
            "리스트: list 란?\n",
            "e =  [1, 2, ['Life', 'is']] d =  [1, 2, 'Life', 'is']\n"
          ],
          "name": "stdout"
        }
      ]
    },
    {
      "cell_type": "code",
      "metadata": {
        "id": "HovVumyjeoZ4",
        "colab_type": "code",
        "colab": {
          "base_uri": "https://localhost:8080/",
          "height": 35
        },
        "outputId": "73a2f47e-55b4-4dc9-a9a7-5a825f394820"
      },
      "source": [
        "# list 초기화\n",
        "# a = []\n",
        "a = list()  #함수는 소괄호\n",
        "a   # []\n"
      ],
      "execution_count": 16,
      "outputs": [
        {
          "output_type": "execute_result",
          "data": {
            "text/plain": [
              "[]"
            ]
          },
          "metadata": {
            "tags": []
          },
          "execution_count": 16
        }
      ]
    },
    {
      "cell_type": "code",
      "metadata": {
        "id": "cTqMqFeIyYo-",
        "colab_type": "code",
        "colab": {
          "base_uri": "https://localhost:8080/",
          "height": 35
        },
        "outputId": "44e2f4a7-85b9-4bdc-f796-3d281a47e209"
      },
      "source": [
        "b = list((1, 2, 3))\n",
        "b"
      ],
      "execution_count": 18,
      "outputs": [
        {
          "output_type": "execute_result",
          "data": {
            "text/plain": [
              "[1, 2, 3]"
            ]
          },
          "metadata": {
            "tags": []
          },
          "execution_count": 18
        }
      ]
    },
    {
      "cell_type": "markdown",
      "metadata": {
        "id": "voD5cyXzym7O",
        "colab_type": "text"
      },
      "source": [
        "### 리스트의 인덱싱과 슬라이싱"
      ]
    },
    {
      "cell_type": "code",
      "metadata": {
        "id": "ut23PbSJyFS5",
        "colab_type": "code",
        "colab": {
          "base_uri": "https://localhost:8080/",
          "height": 52
        },
        "outputId": "ba55b08c-2471-445d-a4e8-8f3aeaf33624"
      },
      "source": [
        "print(\"리스트: 리스트의 인덱싱과 슬라이싱\")\n",
        "a = [1, 2, 3]\n",
        "a\n",
        "a[0]\n",
        "#a[3]  #list index out of range #자바와 같이 모든 수가 0부터 시작하기 때문\n",
        "a[0]+a[2]\n",
        "a[-1]"
      ],
      "execution_count": 22,
      "outputs": [
        {
          "output_type": "stream",
          "text": [
            "리스트: 리스트의 인덱싱과 슬라이싱\n"
          ],
          "name": "stdout"
        },
        {
          "output_type": "execute_result",
          "data": {
            "text/plain": [
              "3"
            ]
          },
          "metadata": {
            "tags": []
          },
          "execution_count": 22
        }
      ]
    },
    {
      "cell_type": "code",
      "metadata": {
        "id": "CpJHCI25ysZS",
        "colab_type": "code",
        "colab": {
          "base_uri": "https://localhost:8080/",
          "height": 35
        },
        "outputId": "809e4f0f-918f-4bc4-a216-7cb075a5044e"
      },
      "source": [
        "#\n",
        "a = [1, 2, 3, ['a', 'b', 'c']]  # 2차원 구조\n",
        "a[0]\n",
        "a[3]\n",
        "a[-1]\n",
        "# # check this: a[0] + a[-1] -> TypeError\n",
        "# a[0] + a[-1]  #unsupported operand type(s) for +: 'int' and 'list'  #정수와 list는 더할 수 없음을 의미\n",
        "# # Indexing inner list\n",
        "a[-1][0]  #2차원 데이터 구조"
      ],
      "execution_count": 31,
      "outputs": [
        {
          "output_type": "execute_result",
          "data": {
            "text/plain": [
              "'a'"
            ]
          },
          "metadata": {
            "tags": []
          },
          "execution_count": 31
        }
      ]
    },
    {
      "cell_type": "code",
      "metadata": {
        "id": "oZ8UyFId3Co6",
        "colab_type": "code",
        "colab": {
          "base_uri": "https://localhost:8080/",
          "height": 35
        },
        "outputId": "8212d85f-9565-4506-f1ef-f2c9b5a4984c"
      },
      "source": [
        "# 도전!\n",
        "a[-1][-1]  # a의 마지막 항목의 마지막 "
      ],
      "execution_count": 32,
      "outputs": [
        {
          "output_type": "execute_result",
          "data": {
            "text/plain": [
              "'c'"
            ]
          },
          "metadata": {
            "tags": []
          },
          "execution_count": 32
        }
      ]
    },
    {
      "cell_type": "markdown",
      "metadata": {
        "id": "Wz7yuJrW3bF7",
        "colab_type": "text"
      },
      "source": [
        "### triple list (삼중 리스트)"
      ]
    },
    {
      "cell_type": "code",
      "metadata": {
        "id": "KTpiY1u6zr0Y",
        "colab_type": "code",
        "colab": {
          "base_uri": "https://localhost:8080/",
          "height": 35
        },
        "outputId": "a1450664-f8cd-4121-b269-ce8857bc97a0"
      },
      "source": [
        "# Indexing of triple list\n",
        "# 삼중 리스트에서 인덱싱하기\n",
        "a = [1, 2, ['a', 'b', ['Life', 'is']]]  #3차원 구조\n",
        "a[2]  # a[-1]\n",
        "a[2][-1]\n",
        "a[2][-1][0]   # 'Life'\n",
        "# 시험에 낸다고 가정했을때\n",
        "# a = [1, 2, ['a', 'b', ['Life', 'is', 'good']]]\n",
        "# a[2][-1][-1]   # 'Life' -> good"
      ],
      "execution_count": 35,
      "outputs": [
        {
          "output_type": "execute_result",
          "data": {
            "text/plain": [
              "'Life'"
            ]
          },
          "metadata": {
            "tags": []
          },
          "execution_count": 35
        }
      ]
    },
    {
      "cell_type": "markdown",
      "metadata": {
        "id": "smqhB5NF5vtj",
        "colab_type": "text"
      },
      "source": [
        "### 리스트의 슬라이싱"
      ]
    },
    {
      "cell_type": "code",
      "metadata": {
        "id": "HTSjckqf3ruo",
        "colab_type": "code",
        "colab": {
          "base_uri": "https://localhost:8080/",
          "height": 35
        },
        "outputId": "6e90f4b6-a709-41c3-9f4f-54bfa7b1b6db"
      },
      "source": [
        "#\n",
        "# 리스트의 슬라이싱\n",
        "a1 = [1, 2, 3, 4, 5]\n",
        "a1[0:2]\n",
        "a2 = \"12345\"\n",
        "a1[0:2], a2[0:2]"
      ],
      "execution_count": 41,
      "outputs": [
        {
          "output_type": "execute_result",
          "data": {
            "text/plain": [
              "([1, 2], '12')"
            ]
          },
          "metadata": {
            "tags": []
          },
          "execution_count": 41
        }
      ]
    },
    {
      "cell_type": "code",
      "metadata": {
        "id": "Py-M202_50pJ",
        "colab_type": "code",
        "colab": {
          "base_uri": "https://localhost:8080/",
          "height": 35
        },
        "outputId": "1a61a82f-9fc1-4b9b-d634-00d0e186bd70"
      },
      "source": [
        "#\n",
        "a = [1, 2, 3, 4, 5]\n",
        "a[0:2]\n",
        "a[2:]\n",
        "a[0:4:2]  # a[start:end:step]"
      ],
      "execution_count": 43,
      "outputs": [
        {
          "output_type": "execute_result",
          "data": {
            "text/plain": [
              "[1, 3]"
            ]
          },
          "metadata": {
            "tags": []
          },
          "execution_count": 43
        }
      ]
    },
    {
      "cell_type": "markdown",
      "metadata": {
        "id": "rs2gYIz97sJb",
        "colab_type": "text"
      },
      "source": [
        "###  중첩된 리스트에서 슬라이싱하기"
      ]
    },
    {
      "cell_type": "code",
      "metadata": {
        "id": "8eQJgiCi6rtk",
        "colab_type": "code",
        "colab": {
          "base_uri": "https://localhost:8080/",
          "height": 35
        },
        "outputId": "161aaae8-5a10-421c-92da-62d26165448f"
      },
      "source": [
        "#\n",
        "# 중첩된 리스트에서 슬라이싱하기\n",
        "#\n",
        "a = [1, 2, 3, ['a', 'b', 'c'], 4, 5]\n",
        "a[2:5]\n",
        "a[3][:2]"
      ],
      "execution_count": 44,
      "outputs": [
        {
          "output_type": "execute_result",
          "data": {
            "text/plain": [
              "['a', 'b']"
            ]
          },
          "metadata": {
            "tags": []
          },
          "execution_count": 44
        }
      ]
    },
    {
      "cell_type": "code",
      "metadata": {
        "id": "io6X2QpQ7wGs",
        "colab_type": "code",
        "colab": {
          "base_uri": "https://localhost:8080/",
          "height": 35
        },
        "outputId": "f6849fc6-f4e5-4396-8b4e-e45d63ebe313"
      },
      "source": [
        "#필기 시험에 낼 가능성 있음\n",
        "#\n",
        "# 리스트: 인덱싱, 슬라이싱 연습\n",
        "#\n",
        "x = [1, 2, 3, 4, 5, 6, 7, 8, 9]\n",
        "x[0:3]\n",
        "x[3:]\n",
        "x[:6]\n",
        "x[0:6:2]  # x[:6:2]\n",
        "x[-1]\n",
        "x[-3]\n",
        "x[:-3]\n",
        "x[::-1]\n",
        "x[-3::-1]"
      ],
      "execution_count": 53,
      "outputs": [
        {
          "output_type": "execute_result",
          "data": {
            "text/plain": [
              "[7, 6, 5, 4, 3, 2, 1]"
            ]
          },
          "metadata": {
            "tags": []
          },
          "execution_count": 53
        }
      ]
    },
    {
      "cell_type": "markdown",
      "metadata": {
        "id": "t3JNK2bm8vuT",
        "colab_type": "text"
      },
      "source": [
        "### 리스트 연산하기"
      ]
    },
    {
      "cell_type": "code",
      "metadata": {
        "id": "rJzv_X8Z8HsY",
        "colab_type": "code",
        "colab": {
          "base_uri": "https://localhost:8080/",
          "height": 52
        },
        "outputId": "e837ef36-f623-4cb9-abf1-d9dfa97d44e5"
      },
      "source": [
        "#\n",
        "###################################\n",
        "print(\"리스트: 리스트 연산하기\")\n",
        "###################################\n",
        "#\n",
        "# 리스트 더하기(+)\n",
        "#\n",
        "a = [1, 2, 3]\n",
        "b = [4, 5, 6]\n",
        "a + b"
      ],
      "execution_count": 54,
      "outputs": [
        {
          "output_type": "stream",
          "text": [
            "리스트: 리스트 연산하기\n"
          ],
          "name": "stdout"
        },
        {
          "output_type": "execute_result",
          "data": {
            "text/plain": [
              "[1, 2, 3, 4, 5, 6]"
            ]
          },
          "metadata": {
            "tags": []
          },
          "execution_count": 54
        }
      ]
    },
    {
      "cell_type": "code",
      "metadata": {
        "id": "irG_UgsZ8y1U",
        "colab_type": "code",
        "colab": {
          "base_uri": "https://localhost:8080/",
          "height": 35
        },
        "outputId": "b44110b2-bfb9-44a6-f4b6-ff2791b3dc30"
      },
      "source": [
        "#\n",
        "# 리스트 반복하기(*)\n",
        "#\n",
        "a * 3"
      ],
      "execution_count": 55,
      "outputs": [
        {
          "output_type": "execute_result",
          "data": {
            "text/plain": [
              "[1, 2, 3, 1, 2, 3, 1, 2, 3]"
            ]
          },
          "metadata": {
            "tags": []
          },
          "execution_count": 55
        }
      ]
    },
    {
      "cell_type": "code",
      "metadata": {
        "id": "t-iOrjxX82KS",
        "colab_type": "code",
        "colab": {
          "base_uri": "https://localhost:8080/",
          "height": 35
        },
        "outputId": "004fdace-b60c-47f7-ada7-acb301cb2e91"
      },
      "source": [
        "#\n",
        "# 리스트 길이 구하기\n",
        "#\n",
        "len(a), len(a*3)"
      ],
      "execution_count": 57,
      "outputs": [
        {
          "output_type": "execute_result",
          "data": {
            "text/plain": [
              "(3, 9)"
            ]
          },
          "metadata": {
            "tags": []
          },
          "execution_count": 57
        }
      ]
    },
    {
      "cell_type": "code",
      "metadata": {
        "id": "NhUEGJCv86QD",
        "colab_type": "code",
        "colab": {
          "base_uri": "https://localhost:8080/",
          "height": 35
        },
        "outputId": "056a1e95-887a-41f9-8a7e-e36c59244a89"
      },
      "source": [
        "#\n",
        "# 초보자가 범하기 쉬운 리스트 연산 오류\n",
        "#\n",
        "a = [1, 2, 3]\n",
        "#a[2] + \"hi\"  # unsupported operand type(s) for +: 'int' and 'str'\n",
        "str(a[2]) + \"hi\""
      ],
      "execution_count": 59,
      "outputs": [
        {
          "output_type": "execute_result",
          "data": {
            "text/plain": [
              "'3hi'"
            ]
          },
          "metadata": {
            "tags": []
          },
          "execution_count": 59
        }
      ]
    },
    {
      "cell_type": "markdown",
      "metadata": {
        "id": "tutAZLBw9Qsv",
        "colab_type": "text"
      },
      "source": [
        "### 리스트의 수정과 삭제"
      ]
    },
    {
      "cell_type": "code",
      "metadata": {
        "id": "VD-Dcr4A9CJd",
        "colab_type": "code",
        "colab": {
          "base_uri": "https://localhost:8080/",
          "height": 35
        },
        "outputId": "c0ffa434-8d1b-4d94-a389-b03673f08d1d"
      },
      "source": [
        "#\n",
        "# 리스트의 수정과 삭제\n",
        "#\n",
        "a = [1, 2, 3]\n",
        "a[2] = 4  # list is mutable!!!\n",
        "a"
      ],
      "execution_count": 60,
      "outputs": [
        {
          "output_type": "execute_result",
          "data": {
            "text/plain": [
              "[1, 2, 4]"
            ]
          },
          "metadata": {
            "tags": []
          },
          "execution_count": 60
        }
      ]
    },
    {
      "cell_type": "code",
      "metadata": {
        "id": "PgiZdf889S70",
        "colab_type": "code",
        "colab": {
          "base_uri": "https://localhost:8080/",
          "height": 35
        },
        "outputId": "2ebb7f12-3266-49bb-c0dd-5ada72fc6249"
      },
      "source": [
        "#\n",
        "# del 함수 사용해 리스트 요소(항목) 삭제하기\n",
        "#\n",
        "a = [1, 2, 3]\n",
        "del a[1]  # 인덱싱을 이용한 삭제\n",
        "a\n",
        "a = [1, 2, 3, 4, 5]\n",
        "del a[2:]  # 슬라이싱을 이용한 삭제\n",
        "a"
      ],
      "execution_count": 61,
      "outputs": [
        {
          "output_type": "execute_result",
          "data": {
            "text/plain": [
              "[1, 2]"
            ]
          },
          "metadata": {
            "tags": []
          },
          "execution_count": 61
        }
      ]
    },
    {
      "cell_type": "markdown",
      "metadata": {
        "id": "q7LEcY029uvV",
        "colab_type": "text"
      },
      "source": [
        "### 리스트 관련 함수들"
      ]
    },
    {
      "cell_type": "code",
      "metadata": {
        "colab_type": "code",
        "id": "dRkzQjiyEnq7",
        "colab": {
          "base_uri": "https://localhost:8080/",
          "height": 52
        },
        "outputId": "6a00590a-903d-410e-db4e-07566b21ee7a"
      },
      "source": [
        "# ch2_05_list_functions.py\n",
        "\n",
        "print(\"리스트: 내부 함수 이용\")\n",
        "#\n",
        "# 리스트에 요소 추가(append)\n",
        "#\n",
        "a = [1, 2, 3]\n",
        "a.append(4)\n",
        "a\n",
        "# 리스트 안에는 어떤 자료형도 추가할 수 있다.\n",
        "# 리스트에 다시 리스트를 추가한 결과\n",
        "a.append([5, 6])\n",
        "a"
      ],
      "execution_count": 63,
      "outputs": [
        {
          "output_type": "stream",
          "text": [
            "리스트: 내부 함수 이용\n"
          ],
          "name": "stdout"
        },
        {
          "output_type": "execute_result",
          "data": {
            "text/plain": [
              "[1, 2, 3, 4, [5, 6]]"
            ]
          },
          "metadata": {
            "tags": []
          },
          "execution_count": 63
        }
      ]
    },
    {
      "cell_type": "code",
      "metadata": {
        "id": "_8sBQirb9zg-",
        "colab_type": "code",
        "colab": {
          "base_uri": "https://localhost:8080/",
          "height": 35
        },
        "outputId": "f4260d18-eabd-4cbb-c584-d506757c74e5"
      },
      "source": [
        "#\n",
        "# 리스트 정렬(sort)\n",
        "#\n",
        "a = [1, 4, 3, 2]\n",
        "a.sort()\n",
        "a\n",
        "\n",
        "s = [\"a\", \"c\", \"b\"]\n",
        "s.sort()\n",
        "s"
      ],
      "execution_count": 65,
      "outputs": [
        {
          "output_type": "execute_result",
          "data": {
            "text/plain": [
              "['a', 'b', 'c']"
            ]
          },
          "metadata": {
            "tags": []
          },
          "execution_count": 65
        }
      ]
    },
    {
      "cell_type": "code",
      "metadata": {
        "id": "_wVJavWR-DBd",
        "colab_type": "code",
        "colab": {
          "base_uri": "https://localhost:8080/",
          "height": 35
        },
        "outputId": "308691e6-679b-4c6a-bcbf-80001d1383e4"
      },
      "source": [
        "#\n",
        "# 리스트 뒤집기(reverse)\n",
        "#\n",
        "a = [\"a\", \"c\", \"b\"]\n",
        "a.reverse()\n",
        "a, a[::-1]"
      ],
      "execution_count": 67,
      "outputs": [
        {
          "output_type": "execute_result",
          "data": {
            "text/plain": [
              "(['b', 'c', 'a'], ['a', 'c', 'b'])"
            ]
          },
          "metadata": {
            "tags": []
          },
          "execution_count": 67
        }
      ]
    },
    {
      "cell_type": "code",
      "metadata": {
        "id": "ml_maZP1-O0l",
        "colab_type": "code",
        "colab": {
          "base_uri": "https://localhost:8080/",
          "height": 35
        },
        "outputId": "2be25a4b-92a2-4b6e-a568-ae8632ddd0bb"
      },
      "source": [
        "#\n",
        "# 위치 반환(index)\n",
        "#    0, 1, 2\n",
        "# a = [1, 2, 3]\n",
        "# a.index(3)\n",
        "# a.index(1)\n",
        "# a.index(0)  #ValueError: 0 is not in list\n",
        "\n",
        "s = [\"a\", \"c\", \"b\"]\n",
        "# s.index(3)  # Error  # ValueError: 3 is not in list\n",
        "# s.index(a)  # Error  # ValueError: [1, 2, 3] is not in list\n",
        "s.index(\"a\"), s.index(\"b\")"
      ],
      "execution_count": 75,
      "outputs": [
        {
          "output_type": "execute_result",
          "data": {
            "text/plain": [
              "(0, 2)"
            ]
          },
          "metadata": {
            "tags": []
          },
          "execution_count": 75
        }
      ]
    },
    {
      "cell_type": "code",
      "metadata": {
        "id": "F9qPs806-kCE",
        "colab_type": "code",
        "colab": {
          "base_uri": "https://localhost:8080/",
          "height": 35
        },
        "outputId": "2347de4d-4b71-4d43-e964-4ad97f467d75"
      },
      "source": [
        "#\n",
        "# 리스트에 요소 삽입(insert)\n",
        "#\n",
        "a = [1, 2, 3]\n",
        "a.insert(0, 4)  # 0번 인덱스에 값 4를 넣으시오.\n",
        "a\n",
        "a.insert(3, 5)  # 3번 인덱스에 값 5를 넣으시오.\n",
        "a"
      ],
      "execution_count": 77,
      "outputs": [
        {
          "output_type": "execute_result",
          "data": {
            "text/plain": [
              "[4, 1, 2, 5, 3]"
            ]
          },
          "metadata": {
            "tags": []
          },
          "execution_count": 77
        }
      ]
    },
    {
      "cell_type": "code",
      "metadata": {
        "id": "sh07n2at_emD",
        "colab_type": "code",
        "colab": {}
      },
      "source": [
        "#\n",
        "# 리스트 요소 제거(remove)\n",
        "#\n",
        "a = [1, 2, 3, 1, 2, 3]  # 중복 값을 허용하는 데이터 구조\n",
        "a.remove(3)\n",
        "a\n",
        "# 3을 리스트 a에서 완전히 제거\n",
        "a.remove(3)\n",
        "# a\n",
        "# a.remove(3)  # ValueError"
      ],
      "execution_count": 0,
      "outputs": []
    },
    {
      "cell_type": "code",
      "metadata": {
        "id": "Pp5AaH_6AEEI",
        "colab_type": "code",
        "colab": {
          "base_uri": "https://localhost:8080/",
          "height": 35
        },
        "outputId": "8a8f9434-8c6a-438d-a0d8-247bca465709"
      },
      "source": [
        "a"
      ],
      "execution_count": 82,
      "outputs": [
        {
          "output_type": "execute_result",
          "data": {
            "text/plain": [
              "[1, 2, 1, 2]"
            ]
          },
          "metadata": {
            "tags": []
          },
          "execution_count": 82
        }
      ]
    },
    {
      "cell_type": "code",
      "metadata": {
        "id": "ZymgrPEaAaLA",
        "colab_type": "code",
        "colab": {
          "base_uri": "https://localhost:8080/",
          "height": 170
        },
        "outputId": "60a074ec-3f23-470f-f4e8-74e61f63f0de"
      },
      "source": [
        "a.remove(3)  #ValueError: list.remove(x): x not in list"
      ],
      "execution_count": 84,
      "outputs": [
        {
          "output_type": "error",
          "ename": "ValueError",
          "evalue": "ignored",
          "traceback": [
            "\u001b[0;31m---------------------------------------------------------------------------\u001b[0m",
            "\u001b[0;31mValueError\u001b[0m                                Traceback (most recent call last)",
            "\u001b[0;32m<ipython-input-84-41792608165f>\u001b[0m in \u001b[0;36m<module>\u001b[0;34m()\u001b[0m\n\u001b[0;32m----> 1\u001b[0;31m \u001b[0ma\u001b[0m\u001b[0;34m.\u001b[0m\u001b[0mremove\u001b[0m\u001b[0;34m(\u001b[0m\u001b[0;36m3\u001b[0m\u001b[0;34m)\u001b[0m  \u001b[0;31m#ValueError: list.remove(x): x not in list\u001b[0m\u001b[0;34m\u001b[0m\u001b[0;34m\u001b[0m\u001b[0m\n\u001b[0m",
            "\u001b[0;31mValueError\u001b[0m: list.remove(x): x not in list"
          ]
        }
      ]
    },
    {
      "cell_type": "code",
      "metadata": {
        "id": "qW1IfdN9Aj4j",
        "colab_type": "code",
        "colab": {
          "base_uri": "https://localhost:8080/",
          "height": 35
        },
        "outputId": "407b8985-b015-4938-9c64-78edfd5d53bc"
      },
      "source": [
        "#\n",
        "# 리스트 요소 끄집어내기(pop)\n",
        "#\n",
        "#\n",
        "# 리스트의 수정과 삭제\n",
        "#\n",
        "a = [1, 2, 3]\n",
        "# pop()은 리스트의 맨 마지막 요소를 돌려주고 그 요소는 삭제한다.\n",
        "a.pop()\n",
        "a"
      ],
      "execution_count": 85,
      "outputs": [
        {
          "output_type": "execute_result",
          "data": {
            "text/plain": [
              "[1, 2]"
            ]
          },
          "metadata": {
            "tags": []
          },
          "execution_count": 85
        }
      ]
    },
    {
      "cell_type": "code",
      "metadata": {
        "id": "fxIvBHqVBr9P",
        "colab_type": "code",
        "colab": {
          "base_uri": "https://localhost:8080/",
          "height": 206
        },
        "outputId": "536854a2-f184-44be-de1e-cdaf1f6dbf23"
      },
      "source": [
        "#\n",
        "a = [1, 2, 3]\n",
        "# pop(x)는 리스트의 index가 x인 요소를 돌려주고 그 요소는 삭제한다.\n",
        "r = a.pop(1)\n",
        "r, a\n",
        "a.pop(2)  # IndexError  #IndexError: pop index out of range"
      ],
      "execution_count": 88,
      "outputs": [
        {
          "output_type": "error",
          "ename": "IndexError",
          "evalue": "ignored",
          "traceback": [
            "\u001b[0;31m---------------------------------------------------------------------------\u001b[0m",
            "\u001b[0;31mIndexError\u001b[0m                                Traceback (most recent call last)",
            "\u001b[0;32m<ipython-input-88-356d4705d751>\u001b[0m in \u001b[0;36m<module>\u001b[0;34m()\u001b[0m\n\u001b[1;32m      3\u001b[0m \u001b[0mr\u001b[0m \u001b[0;34m=\u001b[0m \u001b[0ma\u001b[0m\u001b[0;34m.\u001b[0m\u001b[0mpop\u001b[0m\u001b[0;34m(\u001b[0m\u001b[0;36m1\u001b[0m\u001b[0;34m)\u001b[0m\u001b[0;34m\u001b[0m\u001b[0;34m\u001b[0m\u001b[0m\n\u001b[1;32m      4\u001b[0m \u001b[0mr\u001b[0m\u001b[0;34m,\u001b[0m \u001b[0ma\u001b[0m\u001b[0;34m\u001b[0m\u001b[0;34m\u001b[0m\u001b[0m\n\u001b[0;32m----> 5\u001b[0;31m \u001b[0ma\u001b[0m\u001b[0;34m.\u001b[0m\u001b[0mpop\u001b[0m\u001b[0;34m(\u001b[0m\u001b[0;36m2\u001b[0m\u001b[0;34m)\u001b[0m  \u001b[0;31m# IndexError\u001b[0m\u001b[0;34m\u001b[0m\u001b[0;34m\u001b[0m\u001b[0m\n\u001b[0m",
            "\u001b[0;31mIndexError\u001b[0m: pop index out of range"
          ]
        }
      ]
    },
    {
      "cell_type": "code",
      "metadata": {
        "id": "WFmoSsv6ByuN",
        "colab_type": "code",
        "colab": {
          "base_uri": "https://localhost:8080/",
          "height": 35
        },
        "outputId": "54a91722-68c0-437f-f899-9dd9174ab59b"
      },
      "source": [
        "#\n",
        "# 리스트에 포함된 요소 x의 개수 세기(count)\n",
        "#\n",
        "a = [1, 2, 3, 1]\n",
        "a.count(1)"
      ],
      "execution_count": 89,
      "outputs": [
        {
          "output_type": "execute_result",
          "data": {
            "text/plain": [
              "2"
            ]
          },
          "metadata": {
            "tags": []
          },
          "execution_count": 89
        }
      ]
    },
    {
      "cell_type": "code",
      "metadata": {
        "id": "yEH5dSPDCHS2",
        "colab_type": "code",
        "colab": {
          "base_uri": "https://localhost:8080/",
          "height": 35
        },
        "outputId": "c174fcd4-e4fa-48e1-a3b5-063eadc37e84"
      },
      "source": [
        "#\n",
        "# 리스트 확장(extend)\n",
        "#\n",
        "a = [1, 2, 3]\n",
        "a.extend([4, 5])\n",
        "a  # a.extend([4, 5])는 a += [4, 5]와 동일\n",
        "\n",
        "b = [6, 7]\n",
        "a.extend(b)\n",
        "a\n"
      ],
      "execution_count": 91,
      "outputs": [
        {
          "output_type": "execute_result",
          "data": {
            "text/plain": [
              "[1, 2, 3, 4, 5, 6, 7]"
            ]
          },
          "metadata": {
            "tags": []
          },
          "execution_count": 91
        }
      ]
    },
    {
      "cell_type": "markdown",
      "metadata": {
        "id": "qvCWb0anCWz3",
        "colab_type": "text"
      },
      "source": [
        "### 튜플 (tuple)"
      ]
    },
    {
      "cell_type": "code",
      "metadata": {
        "id": "6_7r1eM_eACl",
        "colab_type": "code",
        "colab": {
          "base_uri": "https://localhost:8080/",
          "height": 52
        },
        "outputId": "ef039d13-ad2d-4e45-e1c3-c16d1c283adb"
      },
      "source": [
        "#ch2_06_tuple.py\n",
        "\n",
        "print(\"튜플: tuple 이란?\")\n",
        "# 리스트는 [ ]으로 둘러싸지만 튜플은 ( )으로 둘러싼다.\n",
        "# 리스트는 그 값의 생성, 삭제, 수정이 가능하지만 튜플은 그 값을 바꿀 수 없다.\n",
        "\n",
        "even = (2, 4, 6, 8)\n",
        "even"
      ],
      "execution_count": 93,
      "outputs": [
        {
          "output_type": "stream",
          "text": [
            "튜플: tuple 이란?\n"
          ],
          "name": "stdout"
        },
        {
          "output_type": "execute_result",
          "data": {
            "text/plain": [
              "(2, 4, 6, 8)"
            ]
          },
          "metadata": {
            "tags": []
          },
          "execution_count": 93
        }
      ]
    },
    {
      "cell_type": "code",
      "metadata": {
        "id": "fClVFpDuCgjm",
        "colab_type": "code",
        "colab": {}
      },
      "source": [
        "# 여러 가지 튜플\n",
        "t1 = ()  # 튜플 초기화, t1 = tuple()\n",
        "t2 = (1,)\n",
        "t3 = (1, 2, 3)\n",
        "t4 = 1, 2, 3\n",
        "t5 = (\"a\", \"b\", (\"ab\", \"cd\"))\n",
        "# t2 = (1,)처럼 단지 1개의 요소만을 가질 때는 요소 뒤에\n",
        "# 콤마(,)를 반드시 붙여야 한다는 것과\n",
        "# t4 = 1, 2, 3처럼 괄호( )를 생략해도 무방하다."
      ],
      "execution_count": 0,
      "outputs": []
    },
    {
      "cell_type": "code",
      "metadata": {
        "id": "4Lwusty_C2XY",
        "colab_type": "code",
        "colab": {
          "base_uri": "https://localhost:8080/",
          "height": 35
        },
        "outputId": "41761d4d-14c7-4488-cc6a-e51e24b74282"
      },
      "source": [
        "t2n = (1)  # t2 = (1,)\n",
        "t2,t2n"
      ],
      "execution_count": 98,
      "outputs": [
        {
          "output_type": "execute_result",
          "data": {
            "text/plain": [
              "((1,), 1)"
            ]
          },
          "metadata": {
            "tags": []
          },
          "execution_count": 98
        }
      ]
    },
    {
      "cell_type": "code",
      "metadata": {
        "id": "p7QSOPwoD0JU",
        "colab_type": "code",
        "colab": {
          "base_uri": "https://localhost:8080/",
          "height": 35
        },
        "outputId": "6829bde8-d43b-4233-aae3-8d3fb5d43fc0"
      },
      "source": [
        "type(t2),type(t2n)"
      ],
      "execution_count": 99,
      "outputs": [
        {
          "output_type": "execute_result",
          "data": {
            "text/plain": [
              "(tuple, int)"
            ]
          },
          "metadata": {
            "tags": []
          },
          "execution_count": 99
        }
      ]
    },
    {
      "cell_type": "markdown",
      "metadata": {
        "id": "39c_05DXD7Es",
        "colab_type": "text"
      },
      "source": [
        "### 여기까지 진도."
      ]
    },
    {
      "cell_type": "code",
      "metadata": {
        "id": "cmPylRHWCmqb",
        "colab_type": "code",
        "colab": {}
      },
      "source": [
        "#####################################################\n",
        "#\n",
        "# 튜플의 요소값을 지우거나 변경하려고 하면 어떻게 될까?\n",
        "#\n",
        "# 1. 튜플 요솟값을 삭제하려 할 때\n",
        "t1 = (1, 2, \"a\", \"b\")\n",
        "del t1[0]  # Error\n",
        "#\n",
        "# 2. 튜플 요솟값을 변경하려 할 때\n",
        "#\n",
        "t1[0] = \"c\"  # TypeError\n",
        "#\n",
        "#\n",
        "print(\"튜플: 사용방법\")\n",
        "#\n",
        "# 인덱싱하기\n",
        "#\n",
        "t1 = (1, 2, \"a\", \"b\")\n",
        "t1[0]\n",
        "t1[3]\n",
        "#\n",
        "# 슬라이싱하기\n",
        "#\n",
        "t1 = (1, 2, \"a\", \"b\")\n",
        "t1[1:]\n",
        "t1[2:-1]  # ('a',)\n",
        "t1[2:]\n",
        "#\n",
        "# 튜플 더하기\n",
        "#\n",
        "t1 = (1, 2, \"a\", \"b\")\n",
        "t2 = (3, 4)\n",
        "t1 + t2\n",
        "#\n",
        "# 튜플 곱하기\n",
        "#\n",
        "t2 = (3, 4)\n",
        "id(t2)\n",
        "t2 * 3\n",
        "id(t2)\n",
        "t2 = t2 * 3\n",
        "id(t2)\n",
        "#\n",
        "# 튜플 길이 구하기\n",
        "#\n",
        "t1 = (1, 2, \"a\", \"b\")\n",
        "len(t1)"
      ],
      "execution_count": 0,
      "outputs": []
    },
    {
      "cell_type": "code",
      "metadata": {
        "id": "yxafyI8HeACr",
        "colab_type": "code",
        "colab": {}
      },
      "source": [
        ""
      ],
      "execution_count": 0,
      "outputs": []
    }
  ]
}