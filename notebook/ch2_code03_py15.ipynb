{
  "nbformat": 4,
  "nbformat_minor": 0,
  "metadata": {
    "colab": {
      "name": "ch2_code03_py15.ipynb",
      "provenance": [],
      "collapsed_sections": [],
      "include_colab_link": true
    },
    "kernelspec": {
      "display_name": "Python 3",
      "language": "python",
      "name": "python3"
    },
    "language_info": {
      "codemirror_mode": {
        "name": "ipython",
        "version": 3
      },
      "file_extension": ".py",
      "mimetype": "text/x-python",
      "name": "python",
      "nbconvert_exporter": "python",
      "pygments_lexer": "ipython3",
      "version": "3.7.5"
    }
  },
  "cells": [
    {
      "cell_type": "markdown",
      "metadata": {
        "id": "view-in-github",
        "colab_type": "text"
      },
      "source": [
        "<a href=\"https://colab.research.google.com/github/jiseonY/py15/blob/master/notebook/ch2_code03_py15.ipynb\" target=\"_parent\"><img src=\"https://colab.research.google.com/assets/colab-badge.svg\" alt=\"Open In Colab\"/></a>"
      ]
    },
    {
      "cell_type": "markdown",
      "metadata": {
        "colab_type": "text",
        "id": "H4jNE-BMAK3f"
      },
      "source": [
        "# ch2_code03.ipynb\n",
        "\n",
        "## py15\n",
        "- Dictionary\n",
        "- Set\n",
        "- Bool\n",
        "- Variable"
      ]
    },
    {
      "cell_type": "code",
      "metadata": {
        "id": "8HuBqCvdjNOW",
        "colab_type": "code",
        "outputId": "35e2440a-021b-4d1e-84bd-f9d0ebc9fde0",
        "colab": {
          "base_uri": "https://localhost:8080/",
          "height": 55
        }
      },
      "source": [
        "# ch2_07_dictionary.py\n",
        "\n",
        "print(\"딕셔너리: 딕셔너리(Dictionary)란?\")\n",
        "# 딕셔너리란 대응 관계를 나타내는 자료형.\n",
        "# 연관 배열(Associative array) 또는 해시(Hash)\n",
        "# 딕셔너리는 Key와 Value를 한 쌍으로 갖는 자료형\n",
        "#\n",
        "# 기본 딕셔너리의 모습\n",
        "# {Key1:Value1, Key2:Value2, Key3:Value3, ...}\n",
        "# Key와 Value의 쌍 여러 개가 { }로 둘러싸여 있다.\n",
        "# 각각의 요소는 Key : Value 형태로 이루어져 있고 쉼표(,)로 구분\n",
        "dic = {\"name\": \"pey\", \"phone\": \"0119993323\", \"birth\": \"1118\"}\n",
        "dic\n",
        "# Key는 각각 'name', 'phone', 'birth'\n",
        "# 각 Key에 해당하는 Value는 'pey', '0119993323', '1118'"
      ],
      "execution_count": 0,
      "outputs": [
        {
          "output_type": "stream",
          "text": [
            "딕셔너리: 딕셔너리(Dictionary)란?\n"
          ],
          "name": "stdout"
        },
        {
          "output_type": "execute_result",
          "data": {
            "text/plain": [
              "{'birth': '1118', 'name': 'pey', 'phone': '0119993323'}"
            ]
          },
          "metadata": {
            "tags": []
          },
          "execution_count": 2
        }
      ]
    },
    {
      "cell_type": "markdown",
      "metadata": {
        "id": "szhN1NK2p9za",
        "colab_type": "text"
      },
      "source": [
        "### 여러가지 딕셔너리"
      ]
    },
    {
      "cell_type": "code",
      "metadata": {
        "id": "eGAsQcUVmgG8",
        "colab_type": "code",
        "outputId": "7cbe2d08-ef52-4298-d378-4226d8ab5da8",
        "colab": {
          "base_uri": "https://localhost:8080/",
          "height": 36
        }
      },
      "source": [
        "# 여러 가지 딕셔너리\n",
        "a = {1: \"hi\"}\n",
        "a[1]"
      ],
      "execution_count": 0,
      "outputs": [
        {
          "output_type": "execute_result",
          "data": {
            "text/plain": [
              "'hi'"
            ]
          },
          "metadata": {
            "tags": []
          },
          "execution_count": 3
        }
      ]
    },
    {
      "cell_type": "code",
      "metadata": {
        "id": "L4iXUverrQTw",
        "colab_type": "code",
        "outputId": "a1532e5e-29a5-4861-f1cf-03edcf190bd3",
        "colab": {
          "base_uri": "https://localhost:8080/",
          "height": 36
        }
      },
      "source": [
        "a = {\"a\": [1, 2, 3]}  # value에는 복합 자료형도 사용된다.\n",
        "len(a)\n",
        "#a[a]  # TypeError  #TypeError: unhashable type: 'dict'\n",
        "a[\"a\"]"
      ],
      "execution_count": 0,
      "outputs": [
        {
          "output_type": "execute_result",
          "data": {
            "text/plain": [
              "[1, 2, 3]"
            ]
          },
          "metadata": {
            "tags": []
          },
          "execution_count": 10
        }
      ]
    },
    {
      "cell_type": "code",
      "metadata": {
        "id": "QeKGgPe1si-e",
        "colab_type": "code",
        "outputId": "a486371e-7bf6-42f7-88f4-8f041470dd8e",
        "colab": {
          "base_uri": "https://localhost:8080/",
          "height": 36
        }
      },
      "source": [
        "a"
      ],
      "execution_count": 0,
      "outputs": [
        {
          "output_type": "execute_result",
          "data": {
            "text/plain": [
              "{'a': [1, 2, 3]}"
            ]
          },
          "metadata": {
            "tags": []
          },
          "execution_count": 11
        }
      ]
    },
    {
      "cell_type": "code",
      "metadata": {
        "id": "bylJQf1-rbZT",
        "colab_type": "code",
        "outputId": "11e46a4b-527f-4e02-89a7-42fc6086905a",
        "colab": {
          "base_uri": "https://localhost:8080/",
          "height": 55
        }
      },
      "source": [
        "#\n",
        "# 딕셔너리 쌍 추가하기\n",
        "#\n",
        "a = {1: \"a\"}\n",
        "print(a)\n",
        "a[2] = \"b\"   # 2 is NOT index!!!, 2 is a Key.\n",
        "a\n",
        "a[\"name\"] = \"pey\"\n",
        "a\n",
        "a[3] = [1, 2, 3]\n",
        "a"
      ],
      "execution_count": 0,
      "outputs": [
        {
          "output_type": "stream",
          "text": [
            "{1: 'a'}\n"
          ],
          "name": "stdout"
        },
        {
          "output_type": "execute_result",
          "data": {
            "text/plain": [
              "{1: 'a', 2: 'b', 3: [1, 2, 3], 'name': 'pey'}"
            ]
          },
          "metadata": {
            "tags": []
          },
          "execution_count": 16
        }
      ]
    },
    {
      "cell_type": "code",
      "metadata": {
        "id": "OjF1Il5VsmEJ",
        "colab_type": "code",
        "outputId": "86e1f71e-1ba8-4291-8f35-04308923e503",
        "colab": {
          "base_uri": "https://localhost:8080/",
          "height": 36
        }
      },
      "source": [
        "#\n",
        "# 딕셔너리 쌍 삭제하기\n",
        "#\n",
        "del a[1]  # 1 is a Key. 1 is never an index.\n",
        "a"
      ],
      "execution_count": 0,
      "outputs": [
        {
          "output_type": "execute_result",
          "data": {
            "text/plain": [
              "{2: 'b', 3: [1, 2, 3], 'name': 'pey'}"
            ]
          },
          "metadata": {
            "tags": []
          },
          "execution_count": 17
        }
      ]
    },
    {
      "cell_type": "code",
      "metadata": {
        "id": "GO0UP53Atrw_",
        "colab_type": "code",
        "outputId": "aff26db9-4abb-441a-feca-38f5b01a5d37",
        "colab": {
          "base_uri": "https://localhost:8080/",
          "height": 73
        }
      },
      "source": [
        "#\n",
        "print(\"딕셔너리: 사용 방법\")\n",
        "d = {\"김연아\": \"피겨스케이팅\", \"류현진\": \"야구\", \"손흥민\": \"축구\", \"귀도\": \"파이썬\"}\n",
        "print(d)\n",
        "d[\"손흥민\"]"
      ],
      "execution_count": 0,
      "outputs": [
        {
          "output_type": "stream",
          "text": [
            "딕셔너리: 사용 방법\n",
            "{'김연아': '피겨스케이팅', '류현진': '야구', '손흥민': '축구', '귀도': '파이썬'}\n"
          ],
          "name": "stdout"
        },
        {
          "output_type": "execute_result",
          "data": {
            "text/plain": [
              "'축구'"
            ]
          },
          "metadata": {
            "tags": []
          },
          "execution_count": 19
        }
      ]
    },
    {
      "cell_type": "code",
      "metadata": {
        "id": "eU3XNU2Xt9pU",
        "colab_type": "code",
        "outputId": "81fb2e0d-a45a-4512-b6e9-442437034d98",
        "colab": {
          "base_uri": "https://localhost:8080/",
          "height": 36
        }
      },
      "source": [
        "#\n",
        "# 딕셔너리에서 Key 사용해 Value 얻기\n",
        "#\n",
        "grade = {\"pey\": 10, \"julliet\": 99}\n",
        "grade[\"pey\"], grade[\"julliet\"]"
      ],
      "execution_count": 0,
      "outputs": [
        {
          "output_type": "execute_result",
          "data": {
            "text/plain": [
              "(10, 99)"
            ]
          },
          "metadata": {
            "tags": []
          },
          "execution_count": 21
        }
      ]
    },
    {
      "cell_type": "code",
      "metadata": {
        "id": "Y3vbbhd5uIhe",
        "colab_type": "code",
        "outputId": "c86f9229-3421-4f85-aa85-e4757d1158bf",
        "colab": {
          "base_uri": "https://localhost:8080/",
          "height": 36
        }
      },
      "source": [
        "#\n",
        "a = {1: \"a\", 2: \"b\"}\n",
        "a[1]  # 1은 key\n",
        "#\n",
        "a = {\"a\": 1, \"b\": 2}\n",
        "a[\"b\"]\n",
        "# a[b]  # TypeError  #NameError: name 'b' is not defined"
      ],
      "execution_count": 0,
      "outputs": [
        {
          "output_type": "execute_result",
          "data": {
            "text/plain": [
              "2"
            ]
          },
          "metadata": {
            "tags": []
          },
          "execution_count": 23
        }
      ]
    },
    {
      "cell_type": "code",
      "metadata": {
        "id": "xWsaIP6MuUZ9",
        "colab_type": "code",
        "outputId": "723ae8d7-8c37-41c6-cb9f-a8c83d93b210",
        "colab": {
          "base_uri": "https://localhost:8080/",
          "height": 36
        }
      },
      "source": [
        "#\n",
        "dic = {\"name\": \"pey\", \"phone\": \"0109993323\", \"birth\": \"1118\"}\n",
        "dic[\"birth\"], dic[\"phone\"]\n",
        "#\n",
        "# 딕셔너리 만들 때 주의할 사항\n",
        "# 딕셔너리에서 Key는 고유한 값이므로 중복되는 Key 값을 설정해 놓으면\n",
        "# 하나를 제외한 나머지 것들이 모두 무시된다\n",
        "#\n",
        "a = {1: \"a\", 1: \"b\"}\n",
        "a[1]"
      ],
      "execution_count": 0,
      "outputs": [
        {
          "output_type": "execute_result",
          "data": {
            "text/plain": [
              "'b'"
            ]
          },
          "metadata": {
            "tags": []
          },
          "execution_count": 25
        }
      ]
    },
    {
      "cell_type": "markdown",
      "metadata": {
        "id": "FqaYa59V7tny",
        "colab_type": "text"
      },
      "source": [
        "### 딕셔너리: 관련 내장 함수들"
      ]
    },
    {
      "cell_type": "code",
      "metadata": {
        "id": "UL2PkeOBuh1D",
        "colab_type": "code",
        "colab": {
          "base_uri": "https://localhost:8080/",
          "height": 92
        },
        "outputId": "8b5b7025-ad7b-4630-ce3c-e2651888e175"
      },
      "source": [
        "#\n",
        "print(\"딕셔너리: 관련 내장 함수들\")\n",
        "#\n",
        "# Key 리스트 만들기(keys)\n",
        "#\n",
        "a = {\"name\": \"pey\", \"phone\": \"0119993323\", \"birth\": \"1118\"}\n",
        "a.keys()\n",
        "list(a.keys())\n",
        "#################################################\n",
        "# 기본적인 반복(iterate) 구문(예: for문)을 실행\n",
        "#################################################\n",
        "for k in a.keys():\n",
        "    print(k)\n"
      ],
      "execution_count": 3,
      "outputs": [
        {
          "output_type": "stream",
          "text": [
            "딕셔너리: 관련 내장 함수들\n",
            "name\n",
            "phone\n",
            "birth\n"
          ],
          "name": "stdout"
        }
      ]
    },
    {
      "cell_type": "code",
      "metadata": {
        "id": "N0tcmsPS74iL",
        "colab_type": "code",
        "colab": {
          "base_uri": "https://localhost:8080/",
          "height": 36
        },
        "outputId": "47a2d59e-86e2-4d4e-a6e4-910fb30a1824"
      },
      "source": [
        "#\n",
        "# Value 리스트 만들기(values)\n",
        "#\n",
        "list(a.values())"
      ],
      "execution_count": 5,
      "outputs": [
        {
          "output_type": "execute_result",
          "data": {
            "text/plain": [
              "['pey', '0119993323', '1118']"
            ]
          },
          "metadata": {
            "tags": []
          },
          "execution_count": 5
        }
      ]
    },
    {
      "cell_type": "code",
      "metadata": {
        "id": "F2lhvOZg8ep0",
        "colab_type": "code",
        "colab": {
          "base_uri": "https://localhost:8080/",
          "height": 34
        },
        "outputId": "4f0069f0-4457-41ff-c47a-3ed146b0a840"
      },
      "source": [
        "#\n",
        "# Key, Value 쌍 얻기(items)\n",
        "#\n",
        "a.items()  # Key와 Value의 쌍을 튜플로 묶은 값을 dict_items 객체로 돌려준다."
      ],
      "execution_count": 6,
      "outputs": [
        {
          "output_type": "execute_result",
          "data": {
            "text/plain": [
              "dict_items([('name', 'pey'), ('phone', '0119993323'), ('birth', '1118')])"
            ]
          },
          "metadata": {
            "tags": []
          },
          "execution_count": 6
        }
      ]
    },
    {
      "cell_type": "code",
      "metadata": {
        "id": "P49igXxN8qZ9",
        "colab_type": "code",
        "colab": {
          "base_uri": "https://localhost:8080/",
          "height": 34
        },
        "outputId": "9d137837-481b-4013-dd0e-7bcfd4456d98"
      },
      "source": [
        "#\n",
        "#\n",
        "# Key: Value 쌍 모두 지우기(clear)\n",
        "#\n",
        "a.clear()\n",
        "a"
      ],
      "execution_count": 7,
      "outputs": [
        {
          "output_type": "execute_result",
          "data": {
            "text/plain": [
              "{}"
            ]
          },
          "metadata": {
            "tags": []
          },
          "execution_count": 7
        }
      ]
    },
    {
      "cell_type": "code",
      "metadata": {
        "id": "n-ZcZRxM8uRN",
        "colab_type": "code",
        "colab": {
          "base_uri": "https://localhost:8080/",
          "height": 34
        },
        "outputId": "82a92585-fb1d-46cc-9adc-6d8bfe0b860e"
      },
      "source": [
        "#\n",
        "# Key로 Value얻기(get)\n",
        "#\n",
        "a = {\"name\": \"pey\", \"phone\": \"0119993323\", \"birth\": \"1118\"}\n",
        "a.get(\"name\")  # a['name']\n",
        "a.get(\"phone\")  # a['phone']"
      ],
      "execution_count": 9,
      "outputs": [
        {
          "output_type": "execute_result",
          "data": {
            "text/plain": [
              "'0119993323'"
            ]
          },
          "metadata": {
            "tags": []
          },
          "execution_count": 9
        }
      ]
    },
    {
      "cell_type": "code",
      "metadata": {
        "id": "-sxrgl6N83vj",
        "colab_type": "code",
        "colab": {
          "base_uri": "https://localhost:8080/",
          "height": 169
        },
        "outputId": "158437f3-f2b3-4e03-c018-be55ad05d342"
      },
      "source": [
        "print(a[\"nokey\"])  # KeyError  #KeyError: 'nokey'"
      ],
      "execution_count": 10,
      "outputs": [
        {
          "output_type": "error",
          "ename": "KeyError",
          "evalue": "ignored",
          "traceback": [
            "\u001b[0;31m---------------------------------------------------------------------------\u001b[0m",
            "\u001b[0;31mKeyError\u001b[0m                                  Traceback (most recent call last)",
            "\u001b[0;32m<ipython-input-10-cad8ab3085f5>\u001b[0m in \u001b[0;36m<module>\u001b[0;34m()\u001b[0m\n\u001b[0;32m----> 1\u001b[0;31m \u001b[0mprint\u001b[0m\u001b[0;34m(\u001b[0m\u001b[0ma\u001b[0m\u001b[0;34m[\u001b[0m\u001b[0;34m\"nokey\"\u001b[0m\u001b[0;34m]\u001b[0m\u001b[0;34m)\u001b[0m  \u001b[0;31m# KeyError\u001b[0m\u001b[0;34m\u001b[0m\u001b[0;34m\u001b[0m\u001b[0m\n\u001b[0m",
            "\u001b[0;31mKeyError\u001b[0m: 'nokey'"
          ]
        }
      ]
    },
    {
      "cell_type": "code",
      "metadata": {
        "id": "fVUUa3Bp8_mn",
        "colab_type": "code",
        "colab": {
          "base_uri": "https://localhost:8080/",
          "height": 34
        },
        "outputId": "00869da3-050f-4eee-9f98-17a80d180b23"
      },
      "source": [
        "#\n",
        "# get(x, '디폴트 값')\n",
        "#\n",
        "# 딕셔너리 안에 찾으려는 Key 값이 없을 경우\n",
        "# 미리 정해 둔 디폴트 값을 대신 가져오게 설정.\n",
        "#\n",
        "a.get(\"foo\", \"bar\")\n",
        "a.get(\"name\", \"bar\")"
      ],
      "execution_count": 13,
      "outputs": [
        {
          "output_type": "execute_result",
          "data": {
            "text/plain": [
              "'pey'"
            ]
          },
          "metadata": {
            "tags": []
          },
          "execution_count": 13
        }
      ]
    },
    {
      "cell_type": "code",
      "metadata": {
        "id": "IOaZgaJO9JG-",
        "colab_type": "code",
        "colab": {
          "base_uri": "https://localhost:8080/",
          "height": 34
        },
        "outputId": "3a96c5d0-65b1-4b36-f46a-0296688c10b1"
      },
      "source": [
        "#\n",
        "# 해당 Key가 딕셔너리 안에 있는지 조사하기(in)\n",
        "#\n",
        "a = {\"name\": \"pey\", \"phone\": \"0119993323\", \"birth\": \"1118\"}\n",
        "\"name\" in a\n",
        "\"foo\" in a\n"
      ],
      "execution_count": 15,
      "outputs": [
        {
          "output_type": "execute_result",
          "data": {
            "text/plain": [
              "False"
            ]
          },
          "metadata": {
            "tags": []
          },
          "execution_count": 15
        }
      ]
    },
    {
      "cell_type": "markdown",
      "metadata": {
        "id": "UwWl8j7P9fNF",
        "colab_type": "text"
      },
      "source": [
        "## Set"
      ]
    },
    {
      "cell_type": "code",
      "metadata": {
        "id": "Q0W_UR3ajNOg",
        "colab_type": "code",
        "colab": {
          "base_uri": "https://localhost:8080/",
          "height": 52
        },
        "outputId": "cb5d583b-d23b-4b53-cba3-ea5950df3cc3"
      },
      "source": [
        "# ch2_08_set.py\n",
        "\n",
        "print(\"집합: 집합(Set)이란?\")\n",
        "# 집합에 관련된 것을 쉽게 처리하기 위해 만든 자료형\n",
        "# 중복된 값을 허용하지 않는다.\n",
        "#\n",
        "# set 키워드를 사용해서 집합자료형을 만든다.\n",
        "#\n",
        "s1 = set([1, 2, 3])\n",
        "s1  # {...}\n",
        "s1n = set([1, 2, 3, 2])\n",
        "s1n\n",
        "s2 = set(\"Hello\")\n",
        "s2"
      ],
      "execution_count": 18,
      "outputs": [
        {
          "output_type": "stream",
          "text": [
            "집합: 집합(Set)이란?\n"
          ],
          "name": "stdout"
        },
        {
          "output_type": "execute_result",
          "data": {
            "text/plain": [
              "{'H', 'e', 'l', 'o'}"
            ]
          },
          "metadata": {
            "tags": []
          },
          "execution_count": 18
        }
      ]
    },
    {
      "cell_type": "markdown",
      "metadata": {
        "id": "o3cJQes7-AKM",
        "colab_type": "text"
      },
      "source": [
        "### 집합 자료형의 특징"
      ]
    },
    {
      "cell_type": "code",
      "metadata": {
        "id": "t3tzbufn9khf",
        "colab_type": "code",
        "colab": {
          "base_uri": "https://localhost:8080/",
          "height": 70
        },
        "outputId": "0363724d-293a-46d4-ed48-95f491f4f09d"
      },
      "source": [
        "#\n",
        "# 집합 자료형의 특징\n",
        "# 1. 중복을 허용하지 않는다.\n",
        "# 2. 순서가 없다(Unordered).\n",
        "# *** set 자료형은 순서가 없기(unordered) 때문에 인덱싱으로 값을 얻을 수 없다.\n",
        "#\n",
        "s1 = set([1,2,3])\n",
        "print(s1)\n",
        "# s1[0]  # TypeError: 'set' object does not support indexing\n",
        "l1=list(s1)\n",
        "print(l1)\n",
        "l1[0]"
      ],
      "execution_count": 23,
      "outputs": [
        {
          "output_type": "stream",
          "text": [
            "{1, 2, 3}\n",
            "[1, 2, 3]\n"
          ],
          "name": "stdout"
        },
        {
          "output_type": "execute_result",
          "data": {
            "text/plain": [
              "1"
            ]
          },
          "metadata": {
            "tags": []
          },
          "execution_count": 23
        }
      ]
    },
    {
      "cell_type": "code",
      "metadata": {
        "id": "rb9l2sDh-FCu",
        "colab_type": "code",
        "colab": {
          "base_uri": "https://localhost:8080/",
          "height": 52
        },
        "outputId": "3f9dc0ad-7114-4ba9-d720-eeb270dd4394"
      },
      "source": [
        "#\n",
        "t1=tuple(s1)\n",
        "print(t1)\n",
        "t1[0]"
      ],
      "execution_count": 24,
      "outputs": [
        {
          "output_type": "stream",
          "text": [
            "(1, 2, 3)\n"
          ],
          "name": "stdout"
        },
        {
          "output_type": "execute_result",
          "data": {
            "text/plain": [
              "1"
            ]
          },
          "metadata": {
            "tags": []
          },
          "execution_count": 24
        }
      ]
    },
    {
      "cell_type": "code",
      "metadata": {
        "id": "RetfxXiA-ufJ",
        "colab_type": "code",
        "colab": {
          "base_uri": "https://localhost:8080/",
          "height": 34
        },
        "outputId": "e9d16485-6ad2-4b0d-aae3-4db5ce62f7d2"
      },
      "source": [
        "#\n",
        "# 교집합, 합집합, 차집합 구하기\n",
        "#\n",
        "s1 = set([1, 2, 3, 4, 5, 6])\n",
        "s2 = set([4, 5, 6, 7, 8, 9])\n",
        "# \n",
        "# 1. 교집합\n",
        "#\n",
        "# s1 & s2\n",
        "s1.intersection(s2)\n",
        "# \n",
        "# 2. 합집합\n",
        "#\n",
        "s1 | s2  # or\n",
        "s1.union(s2)\n",
        "# \n",
        "# 3. 차집합\n",
        "#\n",
        "s1 - s2\n",
        "s2 - s1\n",
        "s1.difference(s2)\n",
        "s2.difference(s1)"
      ],
      "execution_count": 31,
      "outputs": [
        {
          "output_type": "execute_result",
          "data": {
            "text/plain": [
              "{7, 8, 9}"
            ]
          },
          "metadata": {
            "tags": []
          },
          "execution_count": 31
        }
      ]
    },
    {
      "cell_type": "markdown",
      "metadata": {
        "id": "BWgqoDD7_Xmx",
        "colab_type": "text"
      },
      "source": [
        "### 집합 (set): 관련 내장 함수들"
      ]
    },
    {
      "cell_type": "code",
      "metadata": {
        "id": "9EBwKHpC-66Q",
        "colab_type": "code",
        "colab": {
          "base_uri": "https://localhost:8080/",
          "height": 52
        },
        "outputId": "355be82d-e14f-44e4-85df-10ff471bc448"
      },
      "source": [
        "#\n",
        "print(\"집합 (set): 관련 내장 함수들\")\n",
        "#\n",
        "# 값 1개 추가하기(add)\n",
        "#\n",
        "s1 = set([1, 2, 3])\n",
        "s1.add(4)\n",
        "s1"
      ],
      "execution_count": 32,
      "outputs": [
        {
          "output_type": "stream",
          "text": [
            "집합 (set): 관련 내장 함수들\n"
          ],
          "name": "stdout"
        },
        {
          "output_type": "execute_result",
          "data": {
            "text/plain": [
              "{1, 2, 3, 4}"
            ]
          },
          "metadata": {
            "tags": []
          },
          "execution_count": 32
        }
      ]
    },
    {
      "cell_type": "code",
      "metadata": {
        "id": "QI_RVGTN_aks",
        "colab_type": "code",
        "colab": {
          "base_uri": "https://localhost:8080/",
          "height": 34
        },
        "outputId": "bf80f3ea-21a2-410c-ddd3-b213e4132666"
      },
      "source": [
        "#\n",
        "# 값 여러 개 추가하기(update)\n",
        "#\n",
        "s1 = set([1, 2, 3])\n",
        "s1.update([4,5,6])\n",
        "s1\n",
        "# s1.add(5)\n",
        "# s1"
      ],
      "execution_count": 33,
      "outputs": [
        {
          "output_type": "execute_result",
          "data": {
            "text/plain": [
              "{1, 2, 3, 4, 5, 6}"
            ]
          },
          "metadata": {
            "tags": []
          },
          "execution_count": 33
        }
      ]
    },
    {
      "cell_type": "code",
      "metadata": {
        "id": "KXasmHjF_eXZ",
        "colab_type": "code",
        "colab": {
          "base_uri": "https://localhost:8080/",
          "height": 34
        },
        "outputId": "c8951a77-0f8f-4396-c6e1-f4d516ae55e6"
      },
      "source": [
        "#\n",
        "# 특정 값 제거하기(remove)\n",
        "#\n",
        "s1 = set([1, 2, 3])\n",
        "s1.remove(2)\n",
        "s1"
      ],
      "execution_count": 34,
      "outputs": [
        {
          "output_type": "execute_result",
          "data": {
            "text/plain": [
              "{1, 3}"
            ]
          },
          "metadata": {
            "tags": []
          },
          "execution_count": 34
        }
      ]
    },
    {
      "cell_type": "code",
      "metadata": {
        "id": "A172eMLH_lZz",
        "colab_type": "code",
        "colab": {
          "base_uri": "https://localhost:8080/",
          "height": 239
        },
        "outputId": "4c2217d1-9972-4405-bbb5-893384859397"
      },
      "source": [
        "#################################################\n",
        "# frozenset()  # immutable set\n",
        "#################################################\n",
        "small_primes = frozenset([2, 3, 5, 7])\n",
        "bigger_primes = frozenset([5, 7, 11])\n",
        "# small_primes.add(11)  # we cannot add to a frozenset -> AttributeError\n",
        "\n",
        "# small_primes.remove(2)  # neither we can remove -> AttributeError\n",
        "\n",
        "# small_primes & bigger_primes  # intersect, union, etc. allowed\n",
        "# frozenset({5, 7})\n"
      ],
      "execution_count": 36,
      "outputs": [
        {
          "output_type": "error",
          "ename": "AttributeError",
          "evalue": "ignored",
          "traceback": [
            "\u001b[0;31m---------------------------------------------------------------------------\u001b[0m",
            "\u001b[0;31mAttributeError\u001b[0m                            Traceback (most recent call last)",
            "\u001b[0;32m<ipython-input-36-e896316812ec>\u001b[0m in \u001b[0;36m<module>\u001b[0;34m()\u001b[0m\n\u001b[1;32m      3\u001b[0m \u001b[0;31m# small_primes.add(11)  # we cannot add to a frozenset -> AttributeError\u001b[0m\u001b[0;34m\u001b[0m\u001b[0;34m\u001b[0m\u001b[0;34m\u001b[0m\u001b[0m\n\u001b[1;32m      4\u001b[0m \u001b[0;34m\u001b[0m\u001b[0m\n\u001b[0;32m----> 5\u001b[0;31m \u001b[0msmall_primes\u001b[0m\u001b[0;34m.\u001b[0m\u001b[0mremove\u001b[0m\u001b[0;34m(\u001b[0m\u001b[0;36m2\u001b[0m\u001b[0;34m)\u001b[0m  \u001b[0;31m# neither we can remove -> AttributeError\u001b[0m\u001b[0;34m\u001b[0m\u001b[0;34m\u001b[0m\u001b[0m\n\u001b[0m\u001b[1;32m      6\u001b[0m \u001b[0;34m\u001b[0m\u001b[0m\n\u001b[1;32m      7\u001b[0m \u001b[0;31m# small_primes & bigger_primes  # intersect, union, etc. allowed\u001b[0m\u001b[0;34m\u001b[0m\u001b[0;34m\u001b[0m\u001b[0;34m\u001b[0m\u001b[0m\n",
            "\u001b[0;31mAttributeError\u001b[0m: 'frozenset' object has no attribute 'remove'"
          ]
        }
      ]
    },
    {
      "cell_type": "markdown",
      "metadata": {
        "id": "BiHLXqYWAG0z",
        "colab_type": "text"
      },
      "source": [
        "## bool (불)"
      ]
    },
    {
      "cell_type": "code",
      "metadata": {
        "id": "jZHajSRCjNOq",
        "colab_type": "code",
        "colab": {
          "base_uri": "https://localhost:8080/",
          "height": 52
        },
        "outputId": "80392570-6d49-4f32-8e74-601ab89fd332"
      },
      "source": [
        "# ch2_09_bool.py\n",
        "\n",
        "print(\"불: 불 자료형이란?\")\n",
        "# 불(bool) 자료형이란 참(True)과 거짓(False)을 나타내는 자료형이다.\n",
        "# 불 자료형은 다음 2가지 값만을 가질 수 있다.\n",
        "# True - 참\n",
        "# False - 거짓\n",
        "# True나 False는 파이썬의 예약어로 true, false와 같이 사용하지 말고\n",
        "# 첫 문자를 항상 대문자로 사용해야 한다.\n",
        "#\n",
        "a = True\n",
        "b = False\n",
        "type(a), type(b), a, b"
      ],
      "execution_count": 38,
      "outputs": [
        {
          "output_type": "stream",
          "text": [
            "불: 불 자료형이란?\n"
          ],
          "name": "stdout"
        },
        {
          "output_type": "execute_result",
          "data": {
            "text/plain": [
              "(bool, bool, True, False)"
            ]
          },
          "metadata": {
            "tags": []
          },
          "execution_count": 38
        }
      ]
    },
    {
      "cell_type": "code",
      "metadata": {
        "id": "TAT-CYB8AS4J",
        "colab_type": "code",
        "colab": {
          "base_uri": "https://localhost:8080/",
          "height": 34
        },
        "outputId": "2b0443c5-f06c-4f78-9105-144557409089"
      },
      "source": [
        "#\n",
        "# 참과 거짓\n",
        "#\n",
        "1 == 1\n",
        "2 > 1\n",
        "2 < 1\n",
        "True + 1\n",
        "False + 1   #False는 0"
      ],
      "execution_count": 43,
      "outputs": [
        {
          "output_type": "execute_result",
          "data": {
            "text/plain": [
              "1"
            ]
          },
          "metadata": {
            "tags": []
          },
          "execution_count": 43
        }
      ]
    },
    {
      "cell_type": "markdown",
      "metadata": {
        "id": "W_eItksdAt1M",
        "colab_type": "text"
      },
      "source": [
        "### 자료형의 참과 거짓\n",
        "- string\n",
        "- list\n",
        "- tuple\n",
        "- dictionary\n",
        "- set\n",
        "-bool"
      ]
    },
    {
      "cell_type": "code",
      "metadata": {
        "id": "bFHw9_qvAd96",
        "colab_type": "code",
        "colab": {
          "base_uri": "https://localhost:8080/",
          "height": 34
        },
        "outputId": "34653212-b068-4010-f771-9ed69611a3f1"
      },
      "source": [
        "#\n",
        "# 자료형의 참과 거짓\n",
        "#\n",
        "bool(\"python\")\n",
        "bool(\"\")\n",
        "bool([1, 2, 3])\n",
        "bool([2, 3])\n",
        "bool([])\n",
        "bool(())\n",
        "bool({})\n",
        "bool(1)\n",
        "bool(0)\n",
        "bool(None)"
      ],
      "execution_count": 53,
      "outputs": [
        {
          "output_type": "execute_result",
          "data": {
            "text/plain": [
              "False"
            ]
          },
          "metadata": {
            "tags": []
          },
          "execution_count": 53
        }
      ]
    },
    {
      "cell_type": "markdown",
      "metadata": {
        "id": "M1SZZuJbBkaP",
        "colab_type": "text"
      },
      "source": [
        "### Quiz"
      ]
    },
    {
      "cell_type": "code",
      "metadata": {
        "id": "T8UHGmSpBRyy",
        "colab_type": "code",
        "colab": {
          "base_uri": "https://localhost:8080/",
          "height": 34
        },
        "outputId": "def74971-8b78-4487-bf9e-f4ffdd9a06b6"
      },
      "source": [
        "bool(0), bool([0]), bool((0)), bool((0,))   # (0) == 0"
      ],
      "execution_count": 54,
      "outputs": [
        {
          "output_type": "execute_result",
          "data": {
            "text/plain": [
              "(False, True, False, True)"
            ]
          },
          "metadata": {
            "tags": []
          },
          "execution_count": 54
        }
      ]
    },
    {
      "cell_type": "markdown",
      "metadata": {
        "id": "Z_iXcckFB5LL",
        "colab_type": "text"
      },
      "source": [
        ""
      ]
    },
    {
      "cell_type": "code",
      "metadata": {
        "id": "bZqqHUD4A_-j",
        "colab_type": "code",
        "colab": {
          "base_uri": "https://localhost:8080/",
          "height": 87
        },
        "outputId": "024bb24c-d5f8-4874-a30f-d43efda8a488"
      },
      "source": [
        "#\n",
        "# 불 값을 이용한 코드\n",
        "#\n",
        "a = [1, 2, 3, 4]\n",
        "#\n",
        "while a:\n",
        "    print(a.pop())"
      ],
      "execution_count": 55,
      "outputs": [
        {
          "output_type": "stream",
          "text": [
            "4\n",
            "3\n",
            "2\n",
            "1\n"
          ],
          "name": "stdout"
        }
      ]
    },
    {
      "cell_type": "code",
      "metadata": {
        "id": "_bolWGDOB9DY",
        "colab_type": "code",
        "colab": {
          "base_uri": "https://localhost:8080/",
          "height": 34
        },
        "outputId": "cf69c5ad-cc22-45f2-e18b-046c4443bbf8"
      },
      "source": [
        "#\n",
        "if []:\n",
        "    print(\"참\")\n",
        "else:\n",
        "    print(\"거짓\")"
      ],
      "execution_count": 56,
      "outputs": [
        {
          "output_type": "stream",
          "text": [
            "거짓\n"
          ],
          "name": "stdout"
        }
      ]
    },
    {
      "cell_type": "code",
      "metadata": {
        "id": "SI_Ou_RACIW4",
        "colab_type": "code",
        "colab": {
          "base_uri": "https://localhost:8080/",
          "height": 34
        },
        "outputId": "229efd9b-3606-4f4b-9f23-bc44a7ff600a"
      },
      "source": [
        "############################\n",
        "#  Representation error\n",
        "## double precision representation of floating-point numbers\n",
        "############################\n",
        "1-0.9\n",
        "# 0.09999999999999998\n",
        "1-0.9==.1\n",
        "# False"
      ],
      "execution_count": 58,
      "outputs": [
        {
          "output_type": "execute_result",
          "data": {
            "text/plain": [
              "False"
            ]
          },
          "metadata": {
            "tags": []
          },
          "execution_count": 58
        }
      ]
    },
    {
      "cell_type": "code",
      "metadata": {
        "id": "kmnR2IKhCN3f",
        "colab_type": "code",
        "colab": {}
      },
      "source": [
        "#####\n",
        "import decimal\n",
        "x=decimal.Decimal(3.14)\n",
        "y=decimal.Decimal(2.74)\n",
        "x,y\n",
        "\n",
        "x*y\n",
        "# Decimal('8.603600000000001010036498883')\n",
        "decimal.getcontext().prec=4\n",
        "x*y\n",
        "# Decimal('8.604')"
      ],
      "execution_count": 0,
      "outputs": []
    },
    {
      "cell_type": "markdown",
      "metadata": {
        "id": "WlNa-9AYCZcb",
        "colab_type": "text"
      },
      "source": [
        "### 변수"
      ]
    },
    {
      "cell_type": "code",
      "metadata": {
        "id": "D1yNznRQjNOu",
        "colab_type": "code",
        "colab": {
          "base_uri": "https://localhost:8080/",
          "height": 70
        },
        "outputId": "2159a9e0-2355-4598-b6de-9339e1054c52"
      },
      "source": [
        "# ch2_10_variable.py\n",
        "\n",
        "print(\"변수: 변수란?\")\n",
        "#\n",
        "# 변수는 자료(값)을 저장하는 공간이다.\n",
        "#\n",
        "a = [1, 2, 3]\n",
        "print(a)\n",
        "id(a)  # a 변수가 가리키는 메모리의 주소"
      ],
      "execution_count": 60,
      "outputs": [
        {
          "output_type": "stream",
          "text": [
            "변수: 변수란?\n",
            "[1, 2, 3]\n"
          ],
          "name": "stdout"
        },
        {
          "output_type": "execute_result",
          "data": {
            "text/plain": [
              "140140670685320"
            ]
          },
          "metadata": {
            "tags": []
          },
          "execution_count": 60
        }
      ]
    },
    {
      "cell_type": "code",
      "metadata": {
        "id": "2ywqZKg8CgDN",
        "colab_type": "code",
        "colab": {
          "base_uri": "https://localhost:8080/",
          "height": 34
        },
        "outputId": "62820f87-023f-47d9-880b-e7f84ebc2fba"
      },
      "source": [
        "# list\n",
        "a = [1, 2, 3]\n",
        "id(a)\n",
        "b = a\n",
        "id(a), id(b)\n",
        "a is b\n",
        "a[1] = 4\n",
        "a\n",
        "a, b\n",
        "a is b\n",
        "b = [1, 2, 3]\n",
        "id(a), id(b)\n",
        "a is b"
      ],
      "execution_count": 70,
      "outputs": [
        {
          "output_type": "execute_result",
          "data": {
            "text/plain": [
              "False"
            ]
          },
          "metadata": {
            "tags": []
          },
          "execution_count": 70
        }
      ]
    },
    {
      "cell_type": "code",
      "metadata": {
        "id": "J8HCDqqQCyt9",
        "colab_type": "code",
        "colab": {
          "base_uri": "https://localhost:8080/",
          "height": 34
        },
        "outputId": "c45c8c8b-182b-46cf-b0a4-b1b53d42e337"
      },
      "source": [
        "#\n",
        "# b 변수를 생성할 때 a 변수의 값을 가져오면서\n",
        "# a와는 다른 주소를 가리키도록 만들수는 없을까?\n",
        "# 다음 2가지 방법이 있다.\n",
        "#\n",
        "# 1. [:] 이용\n",
        "#\n",
        "a = [1, 2, 3]\n",
        "b = a[:]   # b = a\n",
        "id(a), id(b)\n",
        "a[1] = 4\n",
        "a, b\n",
        "#\n",
        "# 2. copy 모듈 이용\n",
        "#\n",
        "a = [1, 2, 3]\n",
        "from copy import copy\n",
        "b = copy(a)\n",
        "\n",
        "b is a, a is b  "
      ],
      "execution_count": 78,
      "outputs": [
        {
          "output_type": "execute_result",
          "data": {
            "text/plain": [
              "(False, False)"
            ]
          },
          "metadata": {
            "tags": []
          },
          "execution_count": 78
        }
      ]
    },
    {
      "cell_type": "code",
      "metadata": {
        "id": "jXRq1kgNDV57",
        "colab_type": "code",
        "colab": {
          "base_uri": "https://localhost:8080/",
          "height": 70
        },
        "outputId": "5614aee2-4da5-4f90-96ef-1ab89aaec5e6"
      },
      "source": [
        "#\n",
        "# 변수를 만드는 여러 가지 방법\n",
        "#\n",
        "a, b = (\"python\", \"life\")\n",
        "print(a)\n",
        "print(b)\n",
        "a, b"
      ],
      "execution_count": 80,
      "outputs": [
        {
          "output_type": "stream",
          "text": [
            "python\n",
            "life\n"
          ],
          "name": "stdout"
        },
        {
          "output_type": "execute_result",
          "data": {
            "text/plain": [
              "('python', 'life')"
            ]
          },
          "metadata": {
            "tags": []
          },
          "execution_count": 80
        }
      ]
    },
    {
      "cell_type": "code",
      "metadata": {
        "id": "1AZUPZMaD2Z6",
        "colab_type": "code",
        "colab": {
          "base_uri": "https://localhost:8080/",
          "height": 34
        },
        "outputId": "263f8aa2-c0e5-44fc-9f17-3a468ce7263c"
      },
      "source": [
        "[a, b] = [\"python\", \"life\"]\n",
        "a, b\n",
        "\n",
        "a = 3\n",
        "b = 5\n",
        "a, b = b, a\n",
        "a, b"
      ],
      "execution_count": 84,
      "outputs": [
        {
          "output_type": "execute_result",
          "data": {
            "text/plain": [
              "(5, 3)"
            ]
          },
          "metadata": {
            "tags": []
          },
          "execution_count": 84
        }
      ]
    },
    {
      "cell_type": "code",
      "metadata": {
        "id": "NX7xaB8ND-YC",
        "colab_type": "code",
        "colab": {}
      },
      "source": [
        ""
      ],
      "execution_count": 0,
      "outputs": []
    }
  ]
}