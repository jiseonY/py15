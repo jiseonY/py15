{
  "nbformat": 4,
  "nbformat_minor": 0,
  "metadata": {
    "colab": {
      "name": "ch2_exercises.ipynb",
      "provenance": [],
      "collapsed_sections": [],
      "include_colab_link": true
    },
    "kernelspec": {
      "name": "python3",
      "display_name": "Python 3"
    }
  },
  "cells": [
    {
      "cell_type": "markdown",
      "metadata": {
        "id": "view-in-github",
        "colab_type": "text"
      },
      "source": [
        "<a href=\"https://colab.research.google.com/github/jiseonY/py15/blob/master/notebook/ch2_exercises.ipynb\" target=\"_parent\"><img src=\"https://colab.research.google.com/assets/colab-badge.svg\" alt=\"Open In Colab\"/></a>"
      ]
    },
    {
      "cell_type": "markdown",
      "metadata": {
        "id": "ovY5jkD5dpxE",
        "colab_type": "text"
      },
      "source": [
        "## ch2_exercises.ipynb"
      ]
    },
    {
      "cell_type": "markdown",
      "metadata": {
        "id": "SZw6UnxQWYBe",
        "colab_type": "text"
      },
      "source": [
        "## Q1.\n",
        "> 홍길동 씨의 과목별 점수는 다음과 같다. 홍길동 씨의 평균 점수를 구해 보자.\n",
        "\n",
        "- 과목\t점수\n",
        "- 국어\t80\n",
        "- 영어\t75\n",
        "- 수학\t55"
      ]
    },
    {
      "cell_type": "code",
      "metadata": {
        "id": "rUNNaqJPdg7B",
        "colab_type": "code",
        "colab": {
          "base_uri": "https://localhost:8080/",
          "height": 36
        },
        "outputId": "8b2d17f7-0d24-445e-d88d-7950362bbccc"
      },
      "source": [
        "# [Q1] Code\n",
        "홍길동 = {'국어': 80, '영어': 75, '수학': 55}\n",
        "average = sum(홍길동.values()) / len(홍길동)\n",
        "print(average)"
      ],
      "execution_count": 3,
      "outputs": [
        {
          "output_type": "stream",
          "text": [
            "70.0\n"
          ],
          "name": "stdout"
        }
      ]
    },
    {
      "cell_type": "markdown",
      "metadata": {
        "colab_type": "text",
        "id": "re2-XrUYXF1m"
      },
      "source": [
        "## Q2.\n",
        "> 자연수 13이 홀수인지 짝수인지 판별할 수 있는 방법에 대해 말해 보자.\n",
        "\n",
        "1. 판별 기준\n",
        "2. 코드\n"
      ]
    },
    {
      "cell_type": "code",
      "metadata": {
        "colab_type": "code",
        "id": "5MBLUZ5WXF1q",
        "colab": {
          "base_uri": "https://localhost:8080/",
          "height": 36
        },
        "outputId": "8878c0af-25d9-4b85-bbf7-18551df6b15b"
      },
      "source": [
        "# [Q2] Code\n",
        "x=13\n",
        "\n",
        "if(x%2==1):\n",
        "    print(\"홀수입니다.\")\n",
        "else:\n",
        "    print(\"짝수입니다.\")\n",
        "\n",
        "# 1. 판별 기준 : 자연수를 넣고 2를 나눴을 때 나누어 떨어지면 짝수고, 나머지가 1일 경우에는 홀수.\n",
        "\n"
      ],
      "execution_count": 5,
      "outputs": [
        {
          "output_type": "stream",
          "text": [
            "홀수입니다.\n"
          ],
          "name": "stdout"
        }
      ]
    },
    {
      "cell_type": "markdown",
      "metadata": {
        "colab_type": "text",
        "id": "UZy8lu_BXGnT"
      },
      "source": [
        "## Q3.\n",
        "> 홍길동 씨의 주민등록번호는 881120-1068234이다. 홍길동 씨의 주민등록번호를 연월일(YYYYMMDD) 부분과 그 뒤의 숫자 부분으로 나누어 출력해 보자.\n",
        "\n",
        "- 문자열 슬라이싱 기법을 사용해 보자."
      ]
    },
    {
      "cell_type": "code",
      "metadata": {
        "colab_type": "code",
        "id": "H9T_sXHzXGnW",
        "colab": {
          "base_uri": "https://localhost:8080/",
          "height": 55
        },
        "outputId": "e8a3bd76-8db8-45fc-e9fc-060b5a39043b"
      },
      "source": [
        "# [Q3] Code\n",
        "pin = \"881120-1068234\"\n",
        "print(pin[:6])\n",
        "print(pin[7:])\n"
      ],
      "execution_count": 40,
      "outputs": [
        {
          "output_type": "stream",
          "text": [
            "881120\n",
            "1068234\n"
          ],
          "name": "stdout"
        }
      ]
    },
    {
      "cell_type": "markdown",
      "metadata": {
        "colab_type": "text",
        "id": "fqypxxqTXHY7"
      },
      "source": [
        "## Q4.\n",
        "> 주민등록번호 뒷자리의 맨 첫 번째 숫자는 성별을 나타낸다. 주민등록번호에서 성별을 나타내는 숫자를 출력해 보자.\n",
        "\n",
        "- pin = \"881120-1068234\"\n",
        "- ※ 문자열 인덱싱 또는 내장함수를 사용해 보자.\n",
        "- 문자열포맷팅을 이용해서 성별을 출력하시오."
      ]
    },
    {
      "cell_type": "code",
      "metadata": {
        "colab_type": "code",
        "id": "oQ5UnmayXHY-",
        "colab": {
          "base_uri": "https://localhost:8080/",
          "height": 55
        },
        "outputId": "fd0f1112-e373-4329-fe90-7e5b47bfb1e8"
      },
      "source": [
        "# [Q4] Code\n",
        "pin = \"881120-1068234\"\n",
        "print(pin[7])\n",
        "# \"%-5s\" % \"male\"\n",
        "\"성별은 %-4s입니다.\" % \"male\""
      ],
      "execution_count": 13,
      "outputs": [
        {
          "output_type": "stream",
          "text": [
            "1\n"
          ],
          "name": "stdout"
        },
        {
          "output_type": "execute_result",
          "data": {
            "text/plain": [
              "'성별은 male입니다.'"
            ]
          },
          "metadata": {
            "tags": []
          },
          "execution_count": 13
        }
      ]
    },
    {
      "cell_type": "markdown",
      "metadata": {
        "colab_type": "text",
        "id": "NKsvciXZXIL-"
      },
      "source": [
        "## Q5.\n",
        "> 다음과 같은 문자열 a:b:c:d가 있다. 문자열의 replace 함수를 사용하여 a#b#c#d로 바꿔서 출력해 보자.\n",
        "\n",
        "- a = \"a:b:c:d\""
      ]
    },
    {
      "cell_type": "code",
      "metadata": {
        "colab_type": "code",
        "id": "5MZQYOVjXIL_",
        "colab": {
          "base_uri": "https://localhost:8080/",
          "height": 36
        },
        "outputId": "a09e4ffb-450f-427a-d181-e5349667d6db"
      },
      "source": [
        "# [Q5] Code\n",
        "t = \"a:b:c:d\"\n",
        "t = t.replace(':', '#')\n",
        "t"
      ],
      "execution_count": 20,
      "outputs": [
        {
          "output_type": "execute_result",
          "data": {
            "text/plain": [
              "'a#b#c#d'"
            ]
          },
          "metadata": {
            "tags": []
          },
          "execution_count": 20
        }
      ]
    },
    {
      "cell_type": "markdown",
      "metadata": {
        "colab_type": "text",
        "id": "-3KHtOOoXJBV"
      },
      "source": [
        "## Q6.\n",
        "> [1, 3, 5, 4, 2] 리스트를 [5, 4, 3, 2, 1]로 만들어 보자.\n",
        "\n",
        "- ※ 리스트의 내장 함수를 사용해 보자."
      ]
    },
    {
      "cell_type": "code",
      "metadata": {
        "colab_type": "code",
        "id": "AjYR0lUaXJBa",
        "colab": {
          "base_uri": "https://localhost:8080/",
          "height": 36
        },
        "outputId": "d6c0928c-5836-4168-88aa-450c9d5c1e23"
      },
      "source": [
        "# [Q6] Code\n",
        "a = [1, 3, 5, 4, 2]\n",
        "a.sort()\n",
        "a\n",
        "a.reverse()\n",
        "a\n"
      ],
      "execution_count": 23,
      "outputs": [
        {
          "output_type": "execute_result",
          "data": {
            "text/plain": [
              "[5, 4, 3, 2, 1]"
            ]
          },
          "metadata": {
            "tags": []
          },
          "execution_count": 23
        }
      ]
    },
    {
      "cell_type": "markdown",
      "metadata": {
        "colab_type": "text",
        "id": "t4IiVHLeZZiY"
      },
      "source": [
        "## Q7.\n",
        "> ['Life', 'is', 'too', 'short'] 리스트를 Life is too short 문자열로 만들어 출력해 보자.\n",
        "\n",
        "- ※ 문자열의 join 함수를 사용하면 리스트를 문자열로 쉽게 만들 수 있다."
      ]
    },
    {
      "cell_type": "code",
      "metadata": {
        "colab_type": "code",
        "id": "9N_atipGZZii",
        "colab": {
          "base_uri": "https://localhost:8080/",
          "height": 36
        },
        "outputId": "a056032e-93e0-40e8-c770-8806ce704c32"
      },
      "source": [
        "# [Q7] Code\n",
        "\" \".join(['Life', 'is', 'too', 'short'])\n"
      ],
      "execution_count": 25,
      "outputs": [
        {
          "output_type": "execute_result",
          "data": {
            "text/plain": [
              "'Life is too short'"
            ]
          },
          "metadata": {
            "tags": []
          },
          "execution_count": 25
        }
      ]
    },
    {
      "cell_type": "markdown",
      "metadata": {
        "colab_type": "text",
        "id": "-lBhb33mZaak"
      },
      "source": [
        "## Q8.\n",
        "> (1,2,3) 튜플에 값 4를 추가하여 (1,2,3,4)를 만들어 출력해 보자.\n",
        "\n",
        "- ※ 더하기(+) 또는 다른 방법들을 사용해 보자."
      ]
    },
    {
      "cell_type": "code",
      "metadata": {
        "colab_type": "code",
        "id": "i4BTj9htZaao",
        "colab": {
          "base_uri": "https://localhost:8080/",
          "height": 36
        },
        "outputId": "6ab7b933-f093-43cc-e669-2639fe931d08"
      },
      "source": [
        "# [Q8] Code\n",
        "a = (1, 2, 3)\n",
        "a = a + (4, )\n",
        "print(a)"
      ],
      "execution_count": 34,
      "outputs": [
        {
          "output_type": "stream",
          "text": [
            "(1, 2, 3, 4)\n"
          ],
          "name": "stdout"
        }
      ]
    },
    {
      "cell_type": "markdown",
      "metadata": {
        "colab_type": "text",
        "id": "RbzxnM_2ZbD7"
      },
      "source": [
        "## Q9.\n",
        "> 다음과 같은 딕셔너리 a가 있다.\n",
        "\n",
        ">> a = dict()  \n",
        ">> a  \n",
        "{}\n",
        "\n",
        "- 다음 중 오류가 발생하는 경우를 고르고, 그 이유를 설명해 보자.\n",
        "\n",
        "1. a['name'] = 'python'\n",
        "2. a[('a',)] = 'python'\n",
        "3. a[[1]] = 'python'\n",
        "4. a[250] = 'python'"
      ]
    },
    {
      "cell_type": "code",
      "metadata": {
        "colab_type": "code",
        "id": "f-5U0rBgZbEB",
        "colab": {
          "base_uri": "https://localhost:8080/",
          "height": 251
        },
        "outputId": "74786f93-231d-458b-8ed7-89d2a0f8cddf"
      },
      "source": [
        "# [Q9] Code & explanation\n",
        "a = dict()\n",
        "a\n",
        "{}\n",
        "# 3번이 오류가 발생한다.\n",
        "a[[1]]='python'\n",
        "#TypeError: unhashable type: 'list'\n",
        "# Key는 불변 값이어야 하는데 list는 가변 값이기 때문"
      ],
      "execution_count": 44,
      "outputs": [
        {
          "output_type": "error",
          "ename": "TypeError",
          "evalue": "ignored",
          "traceback": [
            "\u001b[0;31m---------------------------------------------------------------------------\u001b[0m",
            "\u001b[0;31mTypeError\u001b[0m                                 Traceback (most recent call last)",
            "\u001b[0;32m<ipython-input-44-7f5bb5201b82>\u001b[0m in \u001b[0;36m<module>\u001b[0;34m()\u001b[0m\n\u001b[1;32m      3\u001b[0m \u001b[0;34m{\u001b[0m\u001b[0;34m}\u001b[0m\u001b[0;34m\u001b[0m\u001b[0;34m\u001b[0m\u001b[0m\n\u001b[1;32m      4\u001b[0m \u001b[0;31m# 3번이 오류가 발생한다.\u001b[0m\u001b[0;34m\u001b[0m\u001b[0;34m\u001b[0m\u001b[0;34m\u001b[0m\u001b[0m\n\u001b[0;32m----> 5\u001b[0;31m \u001b[0ma\u001b[0m\u001b[0;34m[\u001b[0m\u001b[0;34m[\u001b[0m\u001b[0;36m1\u001b[0m\u001b[0;34m]\u001b[0m\u001b[0;34m]\u001b[0m\u001b[0;34m=\u001b[0m\u001b[0;34m'python'\u001b[0m\u001b[0;34m\u001b[0m\u001b[0;34m\u001b[0m\u001b[0m\n\u001b[0m\u001b[1;32m      6\u001b[0m \u001b[0;31m#TypeError: unhashable type: 'list'\u001b[0m\u001b[0;34m\u001b[0m\u001b[0;34m\u001b[0m\u001b[0;34m\u001b[0m\u001b[0m\n\u001b[1;32m      7\u001b[0m \u001b[0;31m# Key는 불변 값이어야 하는데 list는 가변 값이기 때문\u001b[0m\u001b[0;34m\u001b[0m\u001b[0;34m\u001b[0m\u001b[0;34m\u001b[0m\u001b[0m\n",
            "\u001b[0;31mTypeError\u001b[0m: unhashable type: 'list'"
          ]
        }
      ]
    },
    {
      "cell_type": "markdown",
      "metadata": {
        "colab_type": "text",
        "id": "9qiSBPM8Zbpj"
      },
      "source": [
        "## Q10.\n",
        "> 딕셔너리 a에서 'B'에 해당되는 값을 추출해 보자.\n",
        ">> a = {'A':90, 'B':80, 'C':70}\n",
        "\n",
        "- ※ 딕셔너리의 pop 함수를 사용해 보자."
      ]
    },
    {
      "cell_type": "code",
      "metadata": {
        "colab_type": "code",
        "id": "Y9swWMWHZbpm",
        "colab": {
          "base_uri": "https://localhost:8080/",
          "height": 36
        },
        "outputId": "3ba085f4-2b8e-4ada-efa5-ed28bb66698d"
      },
      "source": [
        "# [Q10] Code\n",
        "a = {'A':90, 'B':80, 'C':70}\n",
        "a.pop('B')\n"
      ],
      "execution_count": 49,
      "outputs": [
        {
          "output_type": "execute_result",
          "data": {
            "text/plain": [
              "80"
            ]
          },
          "metadata": {
            "tags": []
          },
          "execution_count": 49
        }
      ]
    },
    {
      "cell_type": "markdown",
      "metadata": {
        "colab_type": "text",
        "id": "88KNoXFNZcR7"
      },
      "source": [
        "## Q11.\n",
        "> a 리스트에서 중복 숫자를 제거해 보자.\n",
        ">> a = [1, 1, 1, 2, 2, 3, 3, 3, 4, 4, 5]\n",
        "\n",
        "- ※ 집합 자료형의 요솟값이 중복될 수 없다는 특징을 사용해 보자."
      ]
    },
    {
      "cell_type": "code",
      "metadata": {
        "colab_type": "code",
        "id": "paSvArIWZcSB",
        "colab": {
          "base_uri": "https://localhost:8080/",
          "height": 36
        },
        "outputId": "d081a818-bc8d-47cf-80c9-5aa4f97a220f"
      },
      "source": [
        "# [Q11] Code\n",
        "a = [1, 1, 1, 2, 2, 3, 3, 3, 4, 4, 5]\n",
        "a = set(a)\n",
        "b = list(aSet)\n",
        "print(b)\n"
      ],
      "execution_count": 46,
      "outputs": [
        {
          "output_type": "stream",
          "text": [
            "[1, 2, 3, 4, 5]\n"
          ],
          "name": "stdout"
        }
      ]
    },
    {
      "cell_type": "markdown",
      "metadata": {
        "colab_type": "text",
        "id": "EzVVHI-AZc3T"
      },
      "source": [
        "## Q12.\n",
        "> 파이썬은 다음처럼 동일한 값에 여러 개의 변수를 선언할 수 있다. 다음과 같이 a, b 변수를 선언한 후 a의 두 번째 요솟값을 변경하면 b 값은 어떻게 될까? 그리고 이런 결과가 오는 이유에 대해 설명해 보자.\n",
        "\n",
        ">> a = b = [1, 2, 3]  \n",
        ">> a[1] = 4  \n",
        ">> print(b)  \n"
      ]
    },
    {
      "cell_type": "code",
      "metadata": {
        "colab_type": "code",
        "id": "RvRIUGqAZc3W",
        "colab": {
          "base_uri": "https://localhost:8080/",
          "height": 36
        },
        "outputId": "cc948d15-71ac-4425-9054-cf73048ccf5e"
      },
      "source": [
        "# [Q12] Code & explanation\n",
        "a = b = [1, 2, 3]\n",
        "a[1] = 4\n",
        "print(b)\n",
        "# [1, 4, 3]이 출력된다.\n",
        "# a와 b가 같은 리스트를  가르키기 때문\n"
      ],
      "execution_count": 38,
      "outputs": [
        {
          "output_type": "stream",
          "text": [
            "[1, 4, 3]\n"
          ],
          "name": "stdout"
        }
      ]
    },
    {
      "cell_type": "markdown",
      "metadata": {
        "id": "2ljBDShkbqZO",
        "colab_type": "text"
      },
      "source": [
        "## 코딩 연습 결과를 github에 올리기\n",
        "> 완성된 ipython 노트북 파일을 각자의 github에 올리시오.\n",
        "\n",
        "- github 계정 만들기 (계정이 없는 학생)\n",
        "    1. github에 sign up (Google gmail 계정을 이용해서 만드시오.)\n",
        "- github에 노트 올리기\n",
        "    2. github에 각자의 id로 repo를 만드시오. (한번 만들면 계속 재사용)\n",
        "    3. pynn repo에 연습결과 노트를 올리시오.\n",
        "        - 제출노트: ch2_exercises_id.ipynb\n"
      ]
    },
    {
      "cell_type": "code",
      "metadata": {
        "id": "OnCR-YNCc8B6",
        "colab_type": "code",
        "colab": {}
      },
      "source": [
        ""
      ],
      "execution_count": 0,
      "outputs": []
    }
  ]
}