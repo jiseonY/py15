{
  "nbformat": 4,
  "nbformat_minor": 0,
  "metadata": {
    "colab": {
      "name": "ch4_code01_py15.ipynb",
      "provenance": [],
      "collapsed_sections": [],
      "include_colab_link": true
    },
    "kernelspec": {
      "display_name": "Python 3",
      "language": "python",
      "name": "python3"
    },
    "language_info": {
      "codemirror_mode": {
        "name": "ipython",
        "version": 3
      },
      "file_extension": ".py",
      "mimetype": "text/x-python",
      "name": "python",
      "nbconvert_exporter": "python",
      "pygments_lexer": "ipython3",
      "version": "3.7.5"
    }
  },
  "cells": [
    {
      "cell_type": "markdown",
      "metadata": {
        "id": "view-in-github",
        "colab_type": "text"
      },
      "source": [
        "<a href=\"https://colab.research.google.com/github/jiseonY/py15/blob/master/notebook/ch4_code01_py15.ipynb\" target=\"_parent\"><img src=\"https://colab.research.google.com/assets/colab-badge.svg\" alt=\"Open In Colab\"/></a>"
      ]
    },
    {
      "cell_type": "markdown",
      "metadata": {
        "colab_type": "text",
        "id": "H4jNE-BMAK3f"
      },
      "source": [
        "# ch4_code01.ipynb\n",
        "## py15\n",
        "- 파이썬 함수\n",
        "    - 입력값을 가지고 어떤 일을 수행한 다음에 그 결과물을 출력\n",
        "        - 반복되는 부분을 함수로 전환.\n",
        "        - 코딩을 모듈화\n",
        "- 매개변수와 인수\n",
        "- 입력값과 결괏값\n",
        "    - return\n",
        "    - 여러 개의 입력을 처리하는 함수(*args)\n",
        "    - 키워드 파라미터 (kwargs)\n",
        "    - 매개변수에 초깃값 미리 설정\n",
        "- lambda 함수 정의"
      ]
    },
    {
      "cell_type": "code",
      "metadata": {
        "id": "hXPcvn1CtW6z",
        "colab_type": "code",
        "outputId": "4d202c33-4913-4fd7-9488-218a4c9ccce3",
        "colab": {
          "base_uri": "https://localhost:8080/",
          "height": 70
        }
      },
      "source": [
        "# ch4_01_function.py\n",
        "#\n",
        "print(\"함수란 무엇인가?\")\n",
        "#######################################\n",
        "# 입력값을 가지고 어떤 일을 수행한 다음에 \n",
        "# 그 결과물을 내어놓는 것\n",
        "#######################################\n",
        "print(\"==>>\", \"입력값을 가지고 어떤 일을 수행한 다음에 그 결과물을 내어놓는 것\")\n",
        "print(\"함수를 사용하는 이유는 무엇일까?\")\n",
        "#######################################\n",
        "# 반복되는 부분을 함수로 전환.\n",
        "# 코딩을 모듈화\n",
        "#######################################"
      ],
      "execution_count": 0,
      "outputs": [
        {
          "output_type": "stream",
          "text": [
            "함수란 무엇인가?\n",
            "==>> 입력값을 가지고 어떤 일을 수행한 다음에 그 결과물을 내어놓는 것\n",
            "함수를 사용하는 이유는 무엇일까?\n"
          ],
          "name": "stdout"
        }
      ]
    },
    {
      "cell_type": "code",
      "metadata": {
        "id": "XjA9XTQIcI7O",
        "colab_type": "code",
        "outputId": "8ee9ce17-2fcd-49f6-ea95-acc06e7ca932",
        "colab": {
          "base_uri": "https://localhost:8080/",
          "height": 52
        }
      },
      "source": [
        "print(\"파이썬 함수의 구조\")\n",
        "#######################################\n",
        "\"\"\"\n",
        "def 함수명(매개변수):\n",
        "    <수행할 문장1>\n",
        "    <수행할 문장2>\n",
        "    ...\n",
        "\"\"\""
      ],
      "execution_count": 0,
      "outputs": [
        {
          "output_type": "stream",
          "text": [
            "파이썬 함수의 구조\n"
          ],
          "name": "stdout"
        },
        {
          "output_type": "execute_result",
          "data": {
            "text/plain": [
              "'\\ndef 함수명(매개변수):\\n    <수행할 문장1>\\n    <수행할 문장2>\\n    ...\\n'"
            ]
          },
          "metadata": {
            "tags": []
          },
          "execution_count": 3
        }
      ]
    },
    {
      "cell_type": "code",
      "metadata": {
        "id": "jH4scBKTcyL6",
        "colab_type": "code",
        "colab": {}
      },
      "source": [
        "def add(a) :\n",
        "  print(a)"
      ],
      "execution_count": 0,
      "outputs": []
    },
    {
      "cell_type": "code",
      "metadata": {
        "id": "nova-ca7c5SS",
        "colab_type": "code",
        "outputId": "45d04ec2-60f9-48ee-bbf7-fef78dc33b31",
        "colab": {
          "base_uri": "https://localhost:8080/",
          "height": 52
        }
      },
      "source": [
        "add(100)\n",
        "add(\"py15\")"
      ],
      "execution_count": 0,
      "outputs": [
        {
          "output_type": "stream",
          "text": [
            "100\n",
            "py15\n"
          ],
          "name": "stdout"
        }
      ]
    },
    {
      "cell_type": "code",
      "metadata": {
        "id": "nRT85ATXcmz7",
        "colab_type": "code",
        "colab": {}
      },
      "source": [
        "#######################################\n",
        "# add() 함수를 정의\n",
        "def add(a, b): \n",
        "    return a + b\n"
      ],
      "execution_count": 0,
      "outputs": []
    },
    {
      "cell_type": "code",
      "metadata": {
        "id": "n6O0fWowdM1a",
        "colab_type": "code",
        "outputId": "5c605925-be30-4b66-9026-9608335370b4",
        "colab": {
          "base_uri": "https://localhost:8080/",
          "height": 70
        }
      },
      "source": [
        "# add() 함수를 사용\n",
        "a=3\n",
        "b=4\n",
        "c=add(a,b)\n",
        "print(c)\n",
        "d = add(3,4)\n",
        "print(d)\n",
        "\n",
        "x=[1,2,3]\n",
        "y=[4,5,6]\n",
        "z=x+y\n",
        "print(z)\n",
        "#"
      ],
      "execution_count": 0,
      "outputs": [
        {
          "output_type": "stream",
          "text": [
            "7\n",
            "7\n",
            "[1, 2, 3, 4, 5, 6]\n"
          ],
          "name": "stdout"
        }
      ]
    },
    {
      "cell_type": "code",
      "metadata": {
        "id": "xpgM4MoPdodU",
        "colab_type": "code",
        "outputId": "6b64e1b0-a5b4-494a-b37c-23ba00708686",
        "colab": {
          "base_uri": "https://localhost:8080/",
          "height": 35
        }
      },
      "source": [
        "z = add(x,y)\n",
        "print(z)"
      ],
      "execution_count": 0,
      "outputs": [
        {
          "output_type": "stream",
          "text": [
            "[1, 2, 3, 4, 5, 6]\n"
          ],
          "name": "stdout"
        }
      ]
    },
    {
      "cell_type": "code",
      "metadata": {
        "id": "t7R4wDgPdyf3",
        "colab_type": "code",
        "outputId": "cb338fe5-6de8-4a6c-f624-b8fab3afd472",
        "colab": {
          "base_uri": "https://localhost:8080/",
          "height": 35
        }
      },
      "source": [
        "w = add(\"hello \", \"python!\")\n",
        "print(w)"
      ],
      "execution_count": 0,
      "outputs": [
        {
          "output_type": "stream",
          "text": [
            "hello python!\n"
          ],
          "name": "stdout"
        }
      ]
    },
    {
      "cell_type": "markdown",
      "metadata": {
        "id": "s_M1rDOVeGnS",
        "colab_type": "text"
      },
      "source": [
        "### 매개변수와 인수"
      ]
    },
    {
      "cell_type": "code",
      "metadata": {
        "id": "Twu4KMs5cw9A",
        "colab_type": "code",
        "colab": {}
      },
      "source": [
        "print(\"매개변수와 인수의 차이를 이해하자!\")\n",
        "#######################################\n",
        "# 매개변수는 함수에 입력으로 전달된 값을 받는 변수\n",
        "# 인수는 함수를 호출할 때 전달하는 입력값을 의미\n",
        "#######################################\n",
        "# add() 함수에서의 매개변수와 인수\n",
        "\"\"\"\n",
        "def add(a, b):  # a, b는 매개변수\n",
        "    return a+b\n",
        "print(add(3, 4))  # 3, 4는 인수\n",
        "\"\"\""
      ],
      "execution_count": 0,
      "outputs": []
    },
    {
      "cell_type": "code",
      "metadata": {
        "id": "KV9e7nWPeR0x",
        "colab_type": "code",
        "outputId": "cf907875-a053-41c6-b83c-e7441b6c8141",
        "colab": {
          "base_uri": "https://localhost:8080/",
          "height": 52
        }
      },
      "source": [
        "print(add(a,b))\n",
        "print(add(10,50))"
      ],
      "execution_count": 0,
      "outputs": [
        {
          "output_type": "stream",
          "text": [
            "7\n",
            "60\n"
          ],
          "name": "stdout"
        }
      ]
    },
    {
      "cell_type": "markdown",
      "metadata": {
        "id": "Fh_Su1lpejsZ",
        "colab_type": "text"
      },
      "source": [
        "### 함수의 결괏값 (return ...)"
      ]
    },
    {
      "cell_type": "code",
      "metadata": {
        "id": "VlLhOQAYeQck",
        "colab_type": "code",
        "outputId": "36d5459c-e062-4d82-8961-ea27fc279fc3",
        "colab": {
          "base_uri": "https://localhost:8080/",
          "height": 52
        }
      },
      "source": [
        "print(\"입력값과 결괏값에 따른 함수의 형태\")\n",
        "#######################################\n",
        "# 입력값 ---> 함수 ----> 결괏값\n",
        "#######################################\n",
        "# 일반적인 함수\n",
        "# 입력값과 결괏값이 있는 함수\n",
        "\"\"\"\n",
        "def 함수이름(매개변수):\n",
        "    <수행할 문장>\n",
        "    ...\n",
        "    return 결과값\n",
        "\"\"\"\n",
        "\n",
        "def add2(a, b): \n",
        "    result = a + b \n",
        "    return result\n",
        "\n",
        "\n",
        "# 입력값과 결괏값이 있는 함수의 사용법\n",
        "# 결괏값을 받을 변수 = 함수이름(입력인수1, 입력인수2, ...)\n",
        "a = add2(3, 4)\n",
        "print(a)\n"
      ],
      "execution_count": 0,
      "outputs": [
        {
          "output_type": "stream",
          "text": [
            "입력값과 결괏값에 따른 함수의 형태\n",
            "7\n"
          ],
          "name": "stdout"
        }
      ]
    },
    {
      "cell_type": "code",
      "metadata": {
        "id": "dKDd8m7Getq2",
        "colab_type": "code",
        "outputId": "b4a95167-65e0-45be-e63b-4df2de267bac",
        "colab": {
          "base_uri": "https://localhost:8080/",
          "height": 35
        }
      },
      "source": [
        "#######################################\n",
        "# 입력값이 없는 함수\n",
        "\n",
        "def say(): \n",
        "    return 'Hi'\n",
        "\n",
        "\n",
        "# 입력값이 없는 함수의 사용법\n",
        "# 결괏값을 받을 변수 = 함수이름()\n",
        "a = say()\n",
        "print(a)"
      ],
      "execution_count": 0,
      "outputs": [
        {
          "output_type": "stream",
          "text": [
            "Hi\n"
          ],
          "name": "stdout"
        }
      ]
    },
    {
      "cell_type": "code",
      "metadata": {
        "id": "wGP8040dfGD-",
        "colab_type": "code",
        "outputId": "401b9b74-17ce-4236-be07-c07a32f0da7a",
        "colab": {
          "base_uri": "https://localhost:8080/",
          "height": 70
        }
      },
      "source": [
        "#######################################\n",
        "# 결괏값이 없는 함수\n",
        "\n",
        "def add3(a, b): \n",
        "    print(\"%d, %d의 합은 %d입니다.\" % (a, b, a+b))\n",
        "\n",
        "\n",
        "# 결괏값이 없는 함수의 사용법\n",
        "# 함수이름(입력인수1, 입력인수2, ...)\n",
        "add3(3, 4)\n",
        "\n",
        "# 다음 결과는 무엇인가?\n",
        "a = add3(3, 4)\n",
        "print(a)\n",
        "# "
      ],
      "execution_count": 0,
      "outputs": [
        {
          "output_type": "stream",
          "text": [
            "3, 4의 합은 7입니다.\n",
            "3, 4의 합은 7입니다.\n",
            "None\n"
          ],
          "name": "stdout"
        }
      ]
    },
    {
      "cell_type": "code",
      "metadata": {
        "id": "pzATJa1sfM9-",
        "colab_type": "code",
        "outputId": "a5342221-c186-4f97-e8dc-7a6f202a113b",
        "colab": {
          "base_uri": "https://localhost:8080/",
          "height": 35
        }
      },
      "source": [
        "#######################################\n",
        "# 입력값도 결괏값도 없는 함수\n",
        "\n",
        "def say2(): \n",
        "    print('Hi')\n",
        "\n",
        "\n",
        "# 입력값도 결괏값도 없는 함수의 사용법\n",
        "# 함수이름()\n",
        "say()"
      ],
      "execution_count": 0,
      "outputs": [
        {
          "output_type": "execute_result",
          "data": {
            "text/plain": [
              "'Hi'"
            ]
          },
          "metadata": {
            "tags": []
          },
          "execution_count": 21
        }
      ]
    },
    {
      "cell_type": "code",
      "metadata": {
        "id": "ogrP4pYbfdaV",
        "colab_type": "code",
        "outputId": "40c41e5f-d551-46ab-a80e-8a14f0c7f6fc",
        "colab": {
          "base_uri": "https://localhost:8080/",
          "height": 70
        }
      },
      "source": [
        "#######################################\n",
        "print(\"매개변수의 값을 지정하여 호출하기\")\n",
        "#######################################\n",
        "def add4(a, b):\n",
        "    return a+b\n",
        "\n",
        "\n",
        "result = add4(a=3, b=7)  # a에 3, b에 7을 전달\n",
        "print(result)\n",
        "# 매개변수의 순서에 상관없이 사용\n",
        "result2 = add4(b=5, a=3)  # b에 5, a에 3을 전달\n",
        "print(result2)\n",
        "#######################################"
      ],
      "execution_count": 0,
      "outputs": [
        {
          "output_type": "stream",
          "text": [
            "매개변수의 값을 지정하여 호출하기\n",
            "10\n",
            "8\n"
          ],
          "name": "stdout"
        }
      ]
    },
    {
      "cell_type": "code",
      "metadata": {
        "id": "bvXZhz9qgDQ1",
        "colab_type": "code",
        "outputId": "18bf820a-e373-4b52-f024-4cc0b88174dd",
        "colab": {
          "base_uri": "https://localhost:8080/",
          "height": 135
        }
      },
      "source": [
        "result3 = add4(a=3, 7)\n",
        "print(result3)"
      ],
      "execution_count": 0,
      "outputs": [
        {
          "output_type": "error",
          "ename": "SyntaxError",
          "evalue": "ignored",
          "traceback": [
            "\u001b[0;36m  File \u001b[0;32m\"<ipython-input-25-dfdb089f26df>\"\u001b[0;36m, line \u001b[0;32m1\u001b[0m\n\u001b[0;31m    result3 = add4(a=3, 7)\u001b[0m\n\u001b[0m                       ^\u001b[0m\n\u001b[0;31mSyntaxError\u001b[0m\u001b[0;31m:\u001b[0m positional argument follows keyword argument\n"
          ]
        }
      ]
    },
    {
      "cell_type": "code",
      "metadata": {
        "id": "S9H8HFjsgNte",
        "colab_type": "code",
        "outputId": "0c32eb7b-475f-4ded-f630-ba14cff230cb",
        "colab": {
          "base_uri": "https://localhost:8080/",
          "height": 188
        }
      },
      "source": [
        "result3 = add4(7, a=3)\n",
        "print(result3)"
      ],
      "execution_count": 0,
      "outputs": [
        {
          "output_type": "error",
          "ename": "TypeError",
          "evalue": "ignored",
          "traceback": [
            "\u001b[0;31m---------------------------------------------------------------------------\u001b[0m",
            "\u001b[0;31mTypeError\u001b[0m                                 Traceback (most recent call last)",
            "\u001b[0;32m<ipython-input-26-c960b6b14d1b>\u001b[0m in \u001b[0;36m<module>\u001b[0;34m()\u001b[0m\n\u001b[0;32m----> 1\u001b[0;31m \u001b[0mresult3\u001b[0m \u001b[0;34m=\u001b[0m \u001b[0madd4\u001b[0m\u001b[0;34m(\u001b[0m\u001b[0;36m7\u001b[0m\u001b[0;34m,\u001b[0m \u001b[0ma\u001b[0m\u001b[0;34m=\u001b[0m\u001b[0;36m3\u001b[0m\u001b[0;34m)\u001b[0m\u001b[0;34m\u001b[0m\u001b[0;34m\u001b[0m\u001b[0m\n\u001b[0m\u001b[1;32m      2\u001b[0m \u001b[0mprint\u001b[0m\u001b[0;34m(\u001b[0m\u001b[0mresult3\u001b[0m\u001b[0;34m)\u001b[0m\u001b[0;34m\u001b[0m\u001b[0;34m\u001b[0m\u001b[0m\n",
            "\u001b[0;31mTypeError\u001b[0m: add4() got multiple values for argument 'a'"
          ]
        }
      ]
    },
    {
      "cell_type": "code",
      "metadata": {
        "id": "5GlCBJskgVxw",
        "colab_type": "code",
        "outputId": "122ba2e5-2059-4b53-80cd-3ae22e4b3350",
        "colab": {
          "base_uri": "https://localhost:8080/",
          "height": 35
        }
      },
      "source": [
        "result3 = add4(b=7, a=3)\n",
        "print(result3)"
      ],
      "execution_count": 0,
      "outputs": [
        {
          "output_type": "stream",
          "text": [
            "10\n"
          ],
          "name": "stdout"
        }
      ]
    },
    {
      "cell_type": "markdown",
      "metadata": {
        "id": "w2x1Y5S-gk1X",
        "colab_type": "text"
      },
      "source": [
        "### *args\n",
        "- arg: argument"
      ]
    },
    {
      "cell_type": "code",
      "metadata": {
        "id": "bclc1T9qfiHd",
        "colab_type": "code",
        "outputId": "30b7fccb-9aa7-4a5d-dc04-4b06a1a3a35c",
        "colab": {
          "base_uri": "https://localhost:8080/",
          "height": 35
        }
      },
      "source": [
        "#######################################\n",
        "print(\"입력값이 몇 개가 될지 모를 때는 어떻게 해야 할까?\")\n",
        "#######################################\n",
        "\"\"\"\n",
        "def 함수이름(*매개변수): \n",
        "    <수행할 문장>\n",
        "    ...\n",
        "\"\"\"\n",
        "\n",
        "def add_many(*args):\n",
        "    result = 0 \n",
        "    for i in args: \n",
        "        result = result + i \n",
        "    return result \n"
      ],
      "execution_count": 0,
      "outputs": [
        {
          "output_type": "stream",
          "text": [
            "입력값이 몇 개가 될지 모를 때는 어떻게 해야 할까?\n"
          ],
          "name": "stdout"
        }
      ]
    },
    {
      "cell_type": "code",
      "metadata": {
        "id": "1SWOzF4Qg50c",
        "colab_type": "code",
        "outputId": "1efcf7ce-11b1-4ccb-df51-066535b46d91",
        "colab": {
          "base_uri": "https://localhost:8080/",
          "height": 35
        }
      },
      "source": [
        "add_many(1,2,3)"
      ],
      "execution_count": 0,
      "outputs": [
        {
          "output_type": "execute_result",
          "data": {
            "text/plain": [
              "6"
            ]
          },
          "metadata": {
            "tags": []
          },
          "execution_count": 29
        }
      ]
    },
    {
      "cell_type": "code",
      "metadata": {
        "id": "WKOuAyOZguGX",
        "colab_type": "code",
        "outputId": "d962392a-9f1e-4fa3-9395-8e0105e9dcea",
        "colab": {
          "base_uri": "https://localhost:8080/",
          "height": 35
        }
      },
      "source": [
        "# add_many(1, 2, 3)\n",
        "add_many(1, 2, 3, 4, 5, 6, 7, 8, 9)\n",
        "\n",
        "result = add_many(1,2,3,4,5,6,7,8,9,10)\n",
        "print(result)"
      ],
      "execution_count": 0,
      "outputs": [
        {
          "output_type": "stream",
          "text": [
            "55\n"
          ],
          "name": "stdout"
        }
      ]
    },
    {
      "cell_type": "code",
      "metadata": {
        "id": "bRkEIENog4yq",
        "colab_type": "code",
        "outputId": "183e7e70-c7d7-43ad-8ff0-acc2ed0c8cf5",
        "colab": {
          "base_uri": "https://localhost:8080/",
          "height": 70
        }
      },
      "source": [
        "#######################################\n",
        "print(\"여러 개의 입력을 처리하는 함수(*args)\")\n",
        "#######################################\n",
        "\n",
        "def add_mul(choice, *args):\n",
        "    if choice == \"add\":\n",
        "        result = 0 \n",
        "        for i in args:\n",
        "            result = result + i \n",
        "    elif choice == \"mul\":\n",
        "        result = 1 \n",
        "        for i in args: \n",
        "            result = result * i \n",
        "    return result \n",
        "\n",
        "# add\n",
        "result = add_mul('add', 1,2,3,4,5)\n",
        "print(result)\n",
        "# multiply\n",
        "result = add_mul('mul', 1,2,3,4,5)\n",
        "print(result)"
      ],
      "execution_count": 0,
      "outputs": [
        {
          "output_type": "stream",
          "text": [
            "여러 개의 입력을 처리하는 함수(*args)\n",
            "15\n",
            "120\n"
          ],
          "name": "stdout"
        }
      ]
    },
    {
      "cell_type": "markdown",
      "metadata": {
        "id": "9sft1wCjjowS",
        "colab_type": "text"
      },
      "source": [
        "### 키워드 파라미터 kwargs"
      ]
    },
    {
      "cell_type": "code",
      "metadata": {
        "id": "fsniiPaCjfPW",
        "colab_type": "code",
        "outputId": "7ebe200f-f856-4866-e561-0951430fbbb8",
        "colab": {
          "base_uri": "https://localhost:8080/",
          "height": 70
        }
      },
      "source": [
        "#\n",
        "#######################################\n",
        "print(\"키워드 파라미터 **kwargs\")\n",
        "#######################################\n",
        "\n",
        "def print_kwargs(**kwargs):\n",
        "    print(kwargs)\n",
        "\n",
        "\n",
        "# print_kwargs 함수는 매개변수 kwargs를 출력하는 함수\n",
        "#\n",
        "print_kwargs(a=1)\n",
        "\n",
        "print_kwargs(name='foo', age=3)\n",
        "\n",
        "#\n",
        "# **kwargs처럼 매개변수 이름 앞에 **을 붙이면 매개변수 \n",
        "# kwargs는 딕셔너리가 되고 모든 key=value 형태의 결괏값이 \n",
        "# 그 딕셔너리에 저장된다.\n",
        "#"
      ],
      "execution_count": 0,
      "outputs": [
        {
          "output_type": "stream",
          "text": [
            "키워드 파라미터 **kwargs\n",
            "{'a': 1}\n",
            "{'name': 'foo', 'age': 3}\n"
          ],
          "name": "stdout"
        }
      ]
    },
    {
      "cell_type": "code",
      "metadata": {
        "id": "cu51FbhgjxP-",
        "colab_type": "code",
        "outputId": "f6ae8ab0-b92f-4f9b-b4d5-7954c77548d0",
        "colab": {
          "base_uri": "https://localhost:8080/",
          "height": 52
        }
      },
      "source": [
        "#######################################\n",
        "print(\"함수의 결괏값은 언제나 하나\")\n",
        "#######################################\n",
        "#\n",
        "def add_and_mul(a,b): \n",
        "    return a+b, a*b\n",
        "\n",
        "# 1,2 == (1,2)\n",
        "# add_and_mul() 사용 1.\n",
        "result = add_and_mul(3,4)  #(7,12)\n",
        "\n",
        "print(result)"
      ],
      "execution_count": 0,
      "outputs": [
        {
          "output_type": "stream",
          "text": [
            "함수의 결괏값은 언제나 하나\n",
            "(7, 12)\n"
          ],
          "name": "stdout"
        }
      ]
    },
    {
      "cell_type": "code",
      "metadata": {
        "id": "Ptv13VbUj5P2",
        "colab_type": "code",
        "outputId": "7b8190a8-c887-4f99-8ae1-203c0f6c54d1",
        "colab": {
          "base_uri": "https://localhost:8080/",
          "height": 35
        }
      },
      "source": [
        "# add_and_mul() 사용 2.\n",
        "result1, result2 = add_and_mul(3, 4)\n",
        "\n",
        "result1, result2"
      ],
      "execution_count": 0,
      "outputs": [
        {
          "output_type": "execute_result",
          "data": {
            "text/plain": [
              "(7, 12)"
            ]
          },
          "metadata": {
            "tags": []
          },
          "execution_count": 40
        }
      ]
    },
    {
      "cell_type": "markdown",
      "metadata": {
        "id": "MXjwJrKlkUXT",
        "colab_type": "text"
      },
      "source": [
        "### 잘못된 함수 사용"
      ]
    },
    {
      "cell_type": "code",
      "metadata": {
        "id": "vSJQazLQkJ_G",
        "colab_type": "code",
        "outputId": "075dac70-a12f-4af4-f397-9f959a977839",
        "colab": {
          "base_uri": "https://localhost:8080/",
          "height": 52
        }
      },
      "source": [
        "#######################################\n",
        "print(\"잘못된 함수\")\n",
        "#######################################\n",
        "def add_and_mul2(a,b): \n",
        "    return a+b \n",
        "    return a*b  # Not working!!\n",
        "\n",
        "\n",
        "result = add_and_mul2(2, 3)\n",
        "print(result)"
      ],
      "execution_count": 0,
      "outputs": [
        {
          "output_type": "stream",
          "text": [
            "잘못된 함수\n",
            "5\n"
          ],
          "name": "stdout"
        }
      ]
    },
    {
      "cell_type": "markdown",
      "metadata": {
        "id": "eVGhPKYLkgrn",
        "colab_type": "text"
      },
      "source": [
        "### return 의 용도"
      ]
    },
    {
      "cell_type": "code",
      "metadata": {
        "id": "6hbldVMgkSni",
        "colab_type": "code",
        "outputId": "3773c88d-8869-4802-a3d9-3b0c01b2100d",
        "colab": {
          "base_uri": "https://localhost:8080/",
          "height": 52
        }
      },
      "source": [
        "#######################################\n",
        "print(\"return 의 용도: 함수 실행 종료\")\n",
        "#######################################\n",
        "def say_nick(nick): \n",
        "    if nick == \"바보\": \n",
        "        return \n",
        "    print(\"나의 별명은 %s 입니다.\" % nick)\n",
        "\n",
        "\n",
        "# say_nick(\"홍길동\")\n",
        "say_nick(\"바보\")\n",
        "say_nick(\"홍길동\")"
      ],
      "execution_count": 0,
      "outputs": [
        {
          "output_type": "stream",
          "text": [
            "return 의 용도: 함수 실행 종료\n",
            "나의 별명은 홍길동 입니다.\n"
          ],
          "name": "stdout"
        }
      ]
    },
    {
      "cell_type": "markdown",
      "metadata": {
        "id": "SonBbr9XkvPw",
        "colab_type": "text"
      },
      "source": [
        "### 매개변수에 초깃값 미리 설정"
      ]
    },
    {
      "cell_type": "code",
      "metadata": {
        "id": "nrm0q270kj9b",
        "colab_type": "code",
        "outputId": "d540f74e-51e4-4f78-b45c-c3bc16d627cf",
        "colab": {
          "base_uri": "https://localhost:8080/",
          "height": 88
        }
      },
      "source": [
        "#----------------------------------------\n",
        "#######################################\n",
        "print(\"매개변수에 초깃값 미리 설정하기\")\n",
        "#######################################\n",
        "def say_myself(name, old, man=True): \n",
        "    print(\"나의 이름은 %s 입니다.\" % name) \n",
        "    print(\"나이는 %d살입니다.\" % old) \n",
        "    if man: \n",
        "        print(\"남자입니다.\")\n",
        "    else: \n",
        "        print(\"여자입니다.\")\n",
        "    \n",
        "\n",
        "# say_myself(\"박응용\", 27)\n",
        "# say_myself(\"박응용\", 27, True)\n",
        "\n",
        "say_myself(\"박응용\", 27, False)"
      ],
      "execution_count": 0,
      "outputs": [
        {
          "output_type": "stream",
          "text": [
            "매개변수에 초깃값 미리 설정하기\n",
            "나의 이름은 박응용 입니다.\n",
            "나이는 27살입니다.\n",
            "여자입니다.\n"
          ],
          "name": "stdout"
        }
      ]
    },
    {
      "cell_type": "code",
      "metadata": {
        "id": "54rzFVojkseY",
        "colab_type": "code",
        "outputId": "27f8dd14-f046-4465-9ce3-f2b50caede70",
        "colab": {
          "base_uri": "https://localhost:8080/",
          "height": 135
        }
      },
      "source": [
        "\n",
        "def say_myself2(name, man=True, old): \n",
        "    print(\"나의 이름은 %s 입니다.\" % name) \n",
        "    print(\"나이는 %d살입니다.\" % old) \n",
        "    if man: \n",
        "        print(\"남자입니다.\") \n",
        "    else:\n",
        "        print(\"여자입니다.\")\n",
        "    \n",
        "\n",
        "# 초깃값을 설정해 놓은 매개변수 뒤에 \n",
        "# 초깃값을 설정해 놓지 않은 매개변수는 사용할 수 없다\n",
        "# 초기화시키고 싶은 매개변수를 항상 뒤쪽에 놓는다.\n",
        "# 키워드형식의 매개변수는 항상 뒤에 지정."
      ],
      "execution_count": 0,
      "outputs": [
        {
          "output_type": "error",
          "ename": "SyntaxError",
          "evalue": "ignored",
          "traceback": [
            "\u001b[0;36m  File \u001b[0;32m\"<ipython-input-49-6c97f6d33df8>\"\u001b[0;36m, line \u001b[0;32m2\u001b[0m\n\u001b[0;31m    def say_myself2(name, man=True, old):\u001b[0m\n\u001b[0m                   ^\u001b[0m\n\u001b[0;31mSyntaxError\u001b[0m\u001b[0;31m:\u001b[0m non-default argument follows default argument\n"
          ]
        }
      ]
    },
    {
      "cell_type": "code",
      "metadata": {
        "id": "Bdz6Y28AlYqw",
        "colab_type": "code",
        "outputId": "b6d54877-1b04-4001-947a-4836c6531e17",
        "colab": {
          "base_uri": "https://localhost:8080/",
          "height": 70
        }
      },
      "source": [
        "def say_myself2(name, old, man=True): \n",
        "    print(\"나의 이름은 %s 입니다.\" % name) \n",
        "    print(\"나이는 %d살입니다.\" % old) \n",
        "    if man: \n",
        "        print(\"남자입니다.\") \n",
        "    else:\n",
        "        print(\"여자입니다.\")\n",
        "    \n",
        "say_myself2 (\"여지선\", 21, False)"
      ],
      "execution_count": 0,
      "outputs": [
        {
          "output_type": "stream",
          "text": [
            "나의 이름은 여지선 입니다.\n",
            "나이는 21살입니다.\n",
            "여자입니다.\n"
          ],
          "name": "stdout"
        }
      ]
    },
    {
      "cell_type": "markdown",
      "metadata": {
        "id": "dzM7fLTml5L7",
        "colab_type": "text"
      },
      "source": [
        "### 함수 안에서 선언한 변수의 효력 범위\n",
        "- scope of a veriable"
      ]
    },
    {
      "cell_type": "code",
      "metadata": {
        "id": "y4jXDo1olJUr",
        "colab_type": "code",
        "outputId": "b7fec090-608e-4808-8298-c6236b743cd2",
        "colab": {
          "base_uri": "https://localhost:8080/",
          "height": 52
        }
      },
      "source": [
        "#######################################\n",
        "print(\"함수 안에서 선언한 변수의 효력 범위\")\n",
        "# 전역변수\n",
        "# 지역 변수, 자동 변수\n",
        "#######################################\n",
        "\n",
        "# vartest.py\n",
        "a = 1  # 전역 변수\n",
        "def vartest(a):  # 지역 변수(매개변수)\n",
        "    a = a +1\n",
        "\n",
        "vartest(a)\n",
        "print(a)"
      ],
      "execution_count": 0,
      "outputs": [
        {
          "output_type": "stream",
          "text": [
            "함수 안에서 선언한 변수의 효력 범위\n",
            "1\n"
          ],
          "name": "stdout"
        }
      ]
    },
    {
      "cell_type": "code",
      "metadata": {
        "id": "r2IhLm68mdF-",
        "colab_type": "code",
        "outputId": "5930d1f5-9992-462f-eefa-5a476deffbda",
        "colab": {
          "base_uri": "https://localhost:8080/",
          "height": 52
        }
      },
      "source": [
        "a = 1  # 전역 변수\n",
        "def vartest(a):  # 지역 변수(매개변수)\n",
        "    a = a +1\n",
        "    print(\"지역변수 a =\", a) \n",
        "\n",
        "vartest(a)\n",
        "print(\"전역변수 a=\", a)"
      ],
      "execution_count": 0,
      "outputs": [
        {
          "output_type": "stream",
          "text": [
            "지역변수 a = 2\n",
            "전역변수 a= 1\n"
          ],
          "name": "stdout"
        }
      ]
    },
    {
      "cell_type": "code",
      "metadata": {
        "id": "tY9GCU-6mEPR",
        "colab_type": "code",
        "outputId": "a6276521-404d-48c2-85c8-cecd234c1762",
        "colab": {
          "base_uri": "https://localhost:8080/",
          "height": 206
        }
      },
      "source": [
        "# vartest_error.py\n",
        "def vartest2(zz):\n",
        "    zz = zz + 1\n",
        "\n",
        "vartest2(3)\n",
        "print(zz)  # Error\n"
      ],
      "execution_count": 0,
      "outputs": [
        {
          "output_type": "error",
          "ename": "NameError",
          "evalue": "ignored",
          "traceback": [
            "\u001b[0;31m---------------------------------------------------------------------------\u001b[0m",
            "\u001b[0;31mNameError\u001b[0m                                 Traceback (most recent call last)",
            "\u001b[0;32m<ipython-input-59-0d7c6d0a2695>\u001b[0m in \u001b[0;36m<module>\u001b[0;34m()\u001b[0m\n\u001b[1;32m      4\u001b[0m \u001b[0;34m\u001b[0m\u001b[0m\n\u001b[1;32m      5\u001b[0m \u001b[0mvartest2\u001b[0m\u001b[0;34m(\u001b[0m\u001b[0;36m3\u001b[0m\u001b[0;34m)\u001b[0m\u001b[0;34m\u001b[0m\u001b[0;34m\u001b[0m\u001b[0m\n\u001b[0;32m----> 6\u001b[0;31m \u001b[0mprint\u001b[0m\u001b[0;34m(\u001b[0m\u001b[0mzz\u001b[0m\u001b[0;34m)\u001b[0m  \u001b[0;31m# Error\u001b[0m\u001b[0;34m\u001b[0m\u001b[0;34m\u001b[0m\u001b[0m\n\u001b[0m",
            "\u001b[0;31mNameError\u001b[0m: name 'zz' is not defined"
          ]
        }
      ]
    },
    {
      "cell_type": "code",
      "metadata": {
        "id": "vHbdWmiFm9ks",
        "colab_type": "code",
        "outputId": "bc046b85-03ac-4948-f87e-11f9de9a488f",
        "colab": {
          "base_uri": "https://localhost:8080/",
          "height": 52
        }
      },
      "source": [
        "#######################################\n",
        "print(\"함수 안에서 함수 밖의 변수를 변경하는 방법\")\n",
        "# return 사용\n",
        "# global 변수 사용\n",
        "#######################################\n",
        "# 1. return 사용하기\n",
        "a = 1 \n",
        "def vartest3(a): \n",
        "    a = a +1 \n",
        "    return a\n",
        "\n",
        "a = vartest3(a) \n",
        "print(a)"
      ],
      "execution_count": 0,
      "outputs": [
        {
          "output_type": "stream",
          "text": [
            "함수 안에서 함수 밖의 변수를 변경하는 방법\n",
            "2\n"
          ],
          "name": "stdout"
        }
      ]
    },
    {
      "cell_type": "code",
      "metadata": {
        "id": "kJJuAxwQnSvc",
        "colab_type": "code",
        "outputId": "26950e38-d596-420f-ed52-b3552fca59fb",
        "colab": {
          "base_uri": "https://localhost:8080/",
          "height": 35
        }
      },
      "source": [
        "# 2. global 명령어 사용하기 (가능한 사용하지 않는다.)\n",
        "a = 1 \n",
        "def vartest4(): \n",
        "    global a \n",
        "    a = a+1\n",
        "\n",
        "vartest4() \n",
        "print(a)"
      ],
      "execution_count": 0,
      "outputs": [
        {
          "output_type": "stream",
          "text": [
            "2\n"
          ],
          "name": "stdout"
        }
      ]
    },
    {
      "cell_type": "markdown",
      "metadata": {
        "id": "L6Pl0uE8nvm1",
        "colab_type": "text"
      },
      "source": [
        "### lambda 함수 정의\n",
        "- 이름 없는 함수 정의"
      ]
    },
    {
      "cell_type": "code",
      "metadata": {
        "id": "6wCRLuKjncxn",
        "colab_type": "code",
        "outputId": "6f4c46ba-2847-4145-bd34-a0c46487ff3c",
        "colab": {
          "base_uri": "https://localhost:8080/",
          "height": 70
        }
      },
      "source": [
        "#--------   lambda  -------------------\n",
        "#######################################\n",
        "print(\"lambda\")\n",
        "#######################################\n",
        "# lambda는 함수를 생성할 때 사용하는 예약어로 def와 동일한 역할을 한다. \n",
        "# 보통 함수를 한줄로 간결하게 만들 때 사용한다.\n",
        "#\n",
        "# lambda 사용법\n",
        "#\n",
        "# lambda 매개변수1, 매개변수2, ... : 매개변수를 이용한 표현식\n",
        "#\n",
        "print(\"lambda를 이용한 add 함수\")\n",
        "\n",
        "add = lambda a, b: a+b\n",
        "\n",
        "result = add(3, 4)\n",
        "print(result)\n",
        "\n",
        "# lambda 예약어로 만든 함수는 return 명령어가 없어도 결괏값을 돌려준다.\n"
      ],
      "execution_count": 0,
      "outputs": [
        {
          "output_type": "stream",
          "text": [
            "lambda\n",
            "lambda를 이용한 add 함수\n",
            "7\n"
          ],
          "name": "stdout"
        }
      ]
    },
    {
      "cell_type": "code",
      "metadata": {
        "id": "rbWzfI0pn2yP",
        "colab_type": "code",
        "outputId": "37e85abd-5006-40a5-b25d-509d10fd25e0",
        "colab": {
          "base_uri": "https://localhost:8080/",
          "height": 35
        }
      },
      "source": [
        "################################\n",
        "# lambda 함수의 응용\n",
        "#\n",
        "models = ['K-3000', 'N-1000', 'T-2000', 'X-5000']\n",
        "sorted(models, key=lambda x: x[-4:])\n",
        "\n",
        "# So cool!!!\n"
      ],
      "execution_count": 0,
      "outputs": [
        {
          "output_type": "execute_result",
          "data": {
            "text/plain": [
              "['N-1000', 'T-2000', 'K-3000', 'X-5000']"
            ]
          },
          "metadata": {
            "tags": []
          },
          "execution_count": 63
        }
      ]
    },
    {
      "cell_type": "code",
      "metadata": {
        "id": "Nn87uHUqtW64",
        "colab_type": "code",
        "outputId": "e5188d96-dd3e-45d0-d9f5-1c694b962ebf",
        "colab": {
          "base_uri": "https://localhost:8080/",
          "height": 35
        }
      },
      "source": [
        "# vartest.py\n",
        "a = 1\n",
        "def vartest(a):\n",
        "    a = a +1\n",
        "    # print(a)\n",
        "\n",
        "vartest(a)\n",
        "print(a)"
      ],
      "execution_count": 0,
      "outputs": [
        {
          "output_type": "stream",
          "text": [
            "1\n"
          ],
          "name": "stdout"
        }
      ]
    },
    {
      "cell_type": "code",
      "metadata": {
        "id": "0Y0fMfkPtW62",
        "colab_type": "code",
        "outputId": "86b5e62e-4423-4354-916e-f9dd36b4d686",
        "colab": {
          "base_uri": "https://localhost:8080/",
          "height": 88
        }
      },
      "source": [
        "# function_test.py\n",
        "\n",
        "# scope_test()\n",
        "x = 5\n",
        "\n",
        "\n",
        "def scope_test():\n",
        "    print(x)\n",
        "    print(x+5)\n",
        "    # x += 5\n",
        "\n",
        "\n",
        "# scope_test()\n",
        "\n",
        "# *args : multiple parameters\n",
        "\n",
        "\n",
        "def args_test(*args):\n",
        "    print(type(args))\n",
        "    print(args)\n",
        "    for arg in args:\n",
        "        print(arg)\n",
        "\n",
        "\n",
        "# args_test(1, 2, 3, 4)\n",
        "# args_test(list(range(4)))\n",
        "\n",
        "# **kawargs : keyword arguments\n",
        "\n",
        "\n",
        "def kwarg_test(**kwargs):\n",
        "    print(type(kwargs))\n",
        "    print(kwargs)\n",
        "    for item in kwargs.items():\n",
        "        print(item)\n",
        "\n",
        "\n",
        "# kwarg_test(a=1, b='hi')\n",
        "kwarg_test(x=[1,2,3], y='Hello')\n"
      ],
      "execution_count": 0,
      "outputs": [
        {
          "output_type": "stream",
          "text": [
            "<class 'dict'>\n",
            "{'x': [1, 2, 3], 'y': 'Hello'}\n",
            "('x', [1, 2, 3])\n",
            "('y', 'Hello')\n"
          ],
          "name": "stdout"
        }
      ]
    },
    {
      "cell_type": "code",
      "metadata": {
        "id": "UA-GojR5y-gh",
        "colab_type": "code",
        "colab": {
          "base_uri": "https://localhost:8080/",
          "height": 381
        },
        "outputId": "b1770d85-c47e-442b-cc57-5e796dab5859"
      },
      "source": [
        "# scope_test()\n",
        "x = 5  # 전역변수\n",
        "\n",
        "\n",
        "def scope_test():\n",
        "    print(x)\n",
        "    print(x+5)\n",
        "    x += 5  # x = x + 5\n",
        "\n",
        "scope_test()\n",
        "x += 15\n",
        "print(x)"
      ],
      "execution_count": 5,
      "outputs": [
        {
          "output_type": "error",
          "ename": "UnboundLocalError",
          "evalue": "ignored",
          "traceback": [
            "\u001b[0;31m---------------------------------------------------------------------------\u001b[0m",
            "\u001b[0;31mUnboundLocalError\u001b[0m                         Traceback (most recent call last)",
            "\u001b[0;32m<ipython-input-5-28de92b63b4e>\u001b[0m in \u001b[0;36m<module>\u001b[0;34m()\u001b[0m\n\u001b[1;32m      8\u001b[0m     \u001b[0mx\u001b[0m \u001b[0;34m+=\u001b[0m \u001b[0;36m5\u001b[0m\u001b[0;34m\u001b[0m\u001b[0;34m\u001b[0m\u001b[0m\n\u001b[1;32m      9\u001b[0m \u001b[0;34m\u001b[0m\u001b[0m\n\u001b[0;32m---> 10\u001b[0;31m \u001b[0mscope_test\u001b[0m\u001b[0;34m(\u001b[0m\u001b[0;34m)\u001b[0m\u001b[0;34m\u001b[0m\u001b[0;34m\u001b[0m\u001b[0m\n\u001b[0m\u001b[1;32m     11\u001b[0m \u001b[0mx\u001b[0m \u001b[0;34m+=\u001b[0m \u001b[0;36m15\u001b[0m\u001b[0;34m\u001b[0m\u001b[0;34m\u001b[0m\u001b[0m\n\u001b[1;32m     12\u001b[0m \u001b[0mprint\u001b[0m\u001b[0;34m(\u001b[0m\u001b[0mx\u001b[0m\u001b[0;34m)\u001b[0m\u001b[0;34m\u001b[0m\u001b[0;34m\u001b[0m\u001b[0m\n",
            "\u001b[0;32m<ipython-input-5-28de92b63b4e>\u001b[0m in \u001b[0;36mscope_test\u001b[0;34m()\u001b[0m\n\u001b[1;32m      4\u001b[0m \u001b[0;34m\u001b[0m\u001b[0m\n\u001b[1;32m      5\u001b[0m \u001b[0;32mdef\u001b[0m \u001b[0mscope_test\u001b[0m\u001b[0;34m(\u001b[0m\u001b[0;34m)\u001b[0m\u001b[0;34m:\u001b[0m\u001b[0;34m\u001b[0m\u001b[0;34m\u001b[0m\u001b[0m\n\u001b[0;32m----> 6\u001b[0;31m     \u001b[0mprint\u001b[0m\u001b[0;34m(\u001b[0m\u001b[0mx\u001b[0m\u001b[0;34m)\u001b[0m\u001b[0;34m\u001b[0m\u001b[0;34m\u001b[0m\u001b[0m\n\u001b[0m\u001b[1;32m      7\u001b[0m     \u001b[0mprint\u001b[0m\u001b[0;34m(\u001b[0m\u001b[0mx\u001b[0m\u001b[0;34m+\u001b[0m\u001b[0;36m5\u001b[0m\u001b[0;34m)\u001b[0m\u001b[0;34m\u001b[0m\u001b[0;34m\u001b[0m\u001b[0m\n\u001b[1;32m      8\u001b[0m     \u001b[0mx\u001b[0m \u001b[0;34m+=\u001b[0m \u001b[0;36m5\u001b[0m\u001b[0;34m\u001b[0m\u001b[0;34m\u001b[0m\u001b[0m\n",
            "\u001b[0;31mUnboundLocalError\u001b[0m: local variable 'x' referenced before assignment"
          ]
        }
      ]
    },
    {
      "cell_type": "code",
      "metadata": {
        "id": "IhfilIjkzq2p",
        "colab_type": "code",
        "colab": {}
      },
      "source": [
        "# *args : multiple parameters\n",
        "\n",
        "\n",
        "def args_test(*args):\n",
        "    print(type(args))\n",
        "    print(args)\n",
        "    for arg in args:\n",
        "        print(arg)\n",
        "\n",
        "\n",
        "# args_test(1, 2, 3, 4)\n",
        "# args_test(list(range(4)))"
      ],
      "execution_count": 0,
      "outputs": []
    },
    {
      "cell_type": "code",
      "metadata": {
        "id": "4kp1ubsCzu4B",
        "colab_type": "code",
        "colab": {
          "base_uri": "https://localhost:8080/",
          "height": 129
        },
        "outputId": "19b43b3c-feea-4dc5-f7e7-7eba5b809042"
      },
      "source": [
        "args_test(1, 2, 3, 4)"
      ],
      "execution_count": 7,
      "outputs": [
        {
          "output_type": "stream",
          "text": [
            "<class 'tuple'>\n",
            "(1, 2, 3, 4)\n",
            "1\n",
            "2\n",
            "3\n",
            "4\n"
          ],
          "name": "stdout"
        }
      ]
    },
    {
      "cell_type": "code",
      "metadata": {
        "id": "sBPiFIA3z1sZ",
        "colab_type": "code",
        "colab": {
          "base_uri": "https://localhost:8080/",
          "height": 73
        },
        "outputId": "b7ed987a-6000-43a9-fd8f-6226e7420332"
      },
      "source": [
        "args_test(list(range(4)))"
      ],
      "execution_count": 9,
      "outputs": [
        {
          "output_type": "stream",
          "text": [
            "<class 'tuple'>\n",
            "([0, 1, 2, 3],)\n",
            "[0, 1, 2, 3]\n"
          ],
          "name": "stdout"
        }
      ]
    },
    {
      "cell_type": "code",
      "metadata": {
        "id": "6FMzI8-G0Ef7",
        "colab_type": "code",
        "colab": {
          "base_uri": "https://localhost:8080/",
          "height": 92
        },
        "outputId": "fe7aa5f2-be57-48b6-9323-c0d54caa8985"
      },
      "source": [
        "args_test([0,1],[2,3,4])  # 1,2 =(1,2)"
      ],
      "execution_count": 10,
      "outputs": [
        {
          "output_type": "stream",
          "text": [
            "<class 'tuple'>\n",
            "([0, 1], [2, 3, 4])\n",
            "[0, 1]\n",
            "[2, 3, 4]\n"
          ],
          "name": "stdout"
        }
      ]
    },
    {
      "cell_type": "code",
      "metadata": {
        "id": "_Qzaavy70fWg",
        "colab_type": "code",
        "colab": {
          "base_uri": "https://localhost:8080/",
          "height": 92
        },
        "outputId": "c148c288-8c5f-4c7f-e3b9-d6b4f9c7bcb6"
      },
      "source": [
        "# **kawargs : keyword arguments\n",
        "\n",
        "\n",
        "def kwarg_test(**kwargs):\n",
        "    print(type(kwargs))\n",
        "    print(kwargs)\n",
        "    for item in kwargs.items():\n",
        "        print(item)\n",
        "\n",
        "\n",
        "kwarg_test(a=1, b='hi')\n",
        "# kwarg_test(x=[1,2,3], y='Hello')"
      ],
      "execution_count": 14,
      "outputs": [
        {
          "output_type": "stream",
          "text": [
            "<class 'dict'>\n",
            "{'a': 1, 'b': 'hi'}\n",
            "('a', 1)\n",
            "('b', 'hi')\n"
          ],
          "name": "stdout"
        }
      ]
    },
    {
      "cell_type": "code",
      "metadata": {
        "id": "EuGyu6oY0pPU",
        "colab_type": "code",
        "colab": {
          "base_uri": "https://localhost:8080/",
          "height": 92
        },
        "outputId": "2de9e753-3531-4805-c826-3e064ebe6baa"
      },
      "source": [
        "kwarg_test(x=[1,2,3], y='Hello')"
      ],
      "execution_count": 13,
      "outputs": [
        {
          "output_type": "stream",
          "text": [
            "<class 'dict'>\n",
            "{'x': [1, 2, 3], 'y': 'Hello'}\n",
            "('x', [1, 2, 3])\n",
            "('y', 'Hello')\n"
          ],
          "name": "stdout"
        }
      ]
    },
    {
      "cell_type": "markdown",
      "metadata": {
        "id": "aiBB3U0ge03F",
        "colab_type": "text"
      },
      "source": [
        "## 도전 코딩\n",
        "- A 학급에 총 10명의 학생이 있다. 이 학생들의 중간고사 점수는 다음과 같다.\n",
        "\n",
        "- A = [70, 60, 55, 75, 95, 90, 80, 80, 85, 100]\n",
        "\n",
        "> 함수를 사용하여 A 학급의 평균 점수를 구해 보자.\n",
        ">> 함수명: average_class(A)\n"
      ]
    },
    {
      "cell_type": "code",
      "metadata": {
        "id": "fGBlcLGN-3pd",
        "colab_type": "code",
        "colab": {}
      },
      "source": [
        "A = [70, 60, 55, 75, 95, 90, 80, 80, 85, 100]\n"
      ],
      "execution_count": 0,
      "outputs": []
    },
    {
      "cell_type": "code",
      "metadata": {
        "id": "7ETtjTn5p_Nj",
        "colab_type": "code",
        "colab": {}
      },
      "source": [
        ""
      ],
      "execution_count": 0,
      "outputs": []
    }
  ]
}