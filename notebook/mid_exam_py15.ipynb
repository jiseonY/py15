{
  "nbformat": 4,
  "nbformat_minor": 0,
  "metadata": {
    "colab": {
      "name": "mid_exam_py15.ipynb",
      "provenance": [],
      "collapsed_sections": [],
      "authorship_tag": "ABX9TyOrgyJ7PLJsf86P6uaSsJrd",
      "include_colab_link": true
    },
    "kernelspec": {
      "name": "python3",
      "display_name": "Python 3"
    }
  },
  "cells": [
    {
      "cell_type": "markdown",
      "metadata": {
        "id": "view-in-github",
        "colab_type": "text"
      },
      "source": [
        "<a href=\"https://colab.research.google.com/github/jiseonY/py15/blob/master/notebook/mid_exam_py15.ipynb\" target=\"_parent\"><img src=\"https://colab.research.google.com/assets/colab-badge.svg\" alt=\"Open In Colab\"/></a>"
      ]
    },
    {
      "cell_type": "markdown",
      "metadata": {
        "id": "uodCMawqdETO",
        "colab_type": "text"
      },
      "source": [
        "## 파이썬 활용 중간고사 풀이"
      ]
    },
    {
      "cell_type": "markdown",
      "metadata": {
        "id": "6ZgdHJdGdKN0",
        "colab_type": "text"
      },
      "source": [
        "### 문제1. \n",
        "> 다음 식의 연산 결과는?\n",
        "```\n",
        "a = 5\n",
        "b = 3\n",
        "a**b\n",
        "\n"
      ]
    },
    {
      "cell_type": "code",
      "metadata": {
        "id": "tX6Qj4HBc9Zn",
        "colab_type": "code",
        "colab": {
          "base_uri": "https://localhost:8080/",
          "height": 36
        },
        "outputId": "57d8afa9-606f-47b8-c9cc-da63382dc49d"
      },
      "source": [
        "a = 5\n",
        "b = 3\n",
        "a**b  # a**b는 a의 b승이라는 뜻이므로 125"
      ],
      "execution_count": 1,
      "outputs": [
        {
          "output_type": "execute_result",
          "data": {
            "text/plain": [
              "125"
            ]
          },
          "metadata": {
            "tags": []
          },
          "execution_count": 1
        }
      ]
    },
    {
      "cell_type": "markdown",
      "metadata": {
        "id": "9KKPpEad4NnE",
        "colab_type": "text"
      },
      "source": [
        "### 문제2. \n",
        "> 다음 문자열 a에 대하여 슬라이싱을 한 결과는?\n",
        "```\n",
        "a = \"Life is too short, You need Python!\"\n",
        "```"
      ]
    },
    {
      "cell_type": "code",
      "metadata": {
        "id": "a8lqlsfk398v",
        "colab_type": "code",
        "colab": {
          "base_uri": "https://localhost:8080/",
          "height": 36
        },
        "outputId": "837d5892-c9e8-4c4a-e2f8-fce3372f45b7"
      },
      "source": [
        "a = \"Life is too short, You need Python!\"\n",
        "a[-16:-8]  \n",
        "#a에 대해 슬라이싱 하는 것으로 -16:-8은 뒤에서 16번째부터 8번째까지를 의미한다.\n",
        "#따라서 -16:-8는 You need가 된다."
      ],
      "execution_count": 2,
      "outputs": [
        {
          "output_type": "execute_result",
          "data": {
            "text/plain": [
              "'You need'"
            ]
          },
          "metadata": {
            "tags": []
          },
          "execution_count": 2
        }
      ]
    },
    {
      "cell_type": "markdown",
      "metadata": {
        "id": "tA3qN3Ne5UJ2",
        "colab_type": "text"
      },
      "source": [
        "### 문제3. \n",
        "> 다음 list a의 인덱싱 결과는?\n",
        "```\n",
        "a = [1, 2, (3, 4), ['a', 'b', ['My', 'Life', 'Good']]]\n",
        "a[3][-1][0]\n"
      ]
    },
    {
      "cell_type": "code",
      "metadata": {
        "id": "UrWzJTwk4qGE",
        "colab_type": "code",
        "colab": {
          "base_uri": "https://localhost:8080/",
          "height": 36
        },
        "outputId": "b88aea98-26be-4477-8beb-5aa007965656"
      },
      "source": [
        "a = [1, 2, (3, 4), ['a', 'b', ['My', 'Life', 'Good']]]\n",
        "a[3][-1][0]\n",
        "# a[3]은 ['a', 'b', ['My', 'Life', 'Good']]이고 \n",
        "#a[3][-1]은 ['a', 'b', ['My', 'Life', 'Good']]의 ['My', 'Life', 'Good']이며, \n",
        "#a[3][-1][0]은 ['My', 'Life', 'Good']의 'My'이다."
      ],
      "execution_count": 3,
      "outputs": [
        {
          "output_type": "execute_result",
          "data": {
            "text/plain": [
              "'My'"
            ]
          },
          "metadata": {
            "tags": []
          },
          "execution_count": 3
        }
      ]
    },
    {
      "cell_type": "markdown",
      "metadata": {
        "id": "0Dpn9Tw-6zq2",
        "colab_type": "text"
      },
      "source": [
        "### 문제4. \n",
        "> 다음 tuple t1의 슬라이싱 결과는?\n",
        "```\n",
        "t1 = (0, 1, \"s\", \"t\", \"u\")\n",
        "t1[2:-2]\n"
      ]
    },
    {
      "cell_type": "code",
      "metadata": {
        "id": "xNTyP71b5s8z",
        "colab_type": "code",
        "colab": {
          "base_uri": "https://localhost:8080/",
          "height": 36
        },
        "outputId": "7de5fde0-4be3-437b-f752-154f3c5659a7"
      },
      "source": [
        "t1 = (0, 1, \"s\", \"t\", \"u\")\n",
        "t1[2:-2]\n",
        "#t1[2:-2]은 s인데 튜플은 리스트와 다르게 1개의 요소만을 가질 때는 요소 뒤에 콤마(,)를 반드시 붙여야 한다."
      ],
      "execution_count": 5,
      "outputs": [
        {
          "output_type": "execute_result",
          "data": {
            "text/plain": [
              "('s',)"
            ]
          },
          "metadata": {
            "tags": []
          },
          "execution_count": 5
        }
      ]
    },
    {
      "cell_type": "markdown",
      "metadata": {
        "id": "56vCxkmz7_6h",
        "colab_type": "text"
      },
      "source": [
        "### 문제5. \n",
        "> 다음 bool 값 출력 중 정확한 것은?\n",
        "```\n",
        "bool([0, 1, 2]), bool([0]), bool((0)), bool((0,))\n",
        "```"
      ]
    },
    {
      "cell_type": "code",
      "metadata": {
        "id": "9J_s6qF87CIo",
        "colab_type": "code",
        "colab": {
          "base_uri": "https://localhost:8080/",
          "height": 36
        },
        "outputId": "0f87e9bf-bb11-4f7e-b3f9-fa3f97673fb8"
      },
      "source": [
        "bool([0, 1, 2]), bool([0]), bool((0)), bool((0,))\n",
        "# 튜플은 ()로 감싸기 때문에 bool([0, 1, 2]), bool([0])은 안에 값이 있다고 생각하고,\n",
        "# 그리고 bool((0,))처럼 0뒤에 ,를 찍어야지 값이 있다고 생각해 True가 된다.\n",
        "# bool((0)) 이것은 0뒤에 ,가 없기때문에 0으로 인식해 False가 된다."
      ],
      "execution_count": 6,
      "outputs": [
        {
          "output_type": "execute_result",
          "data": {
            "text/plain": [
              "(True, True, False, True)"
            ]
          },
          "metadata": {
            "tags": []
          },
          "execution_count": 6
        }
      ]
    },
    {
      "cell_type": "markdown",
      "metadata": {
        "id": "b_mkQSZY-fis",
        "colab_type": "text"
      },
      "source": [
        "### 문제6. \n",
        "> 다음 조건문을 1줄 코드로 변경하시오.\n",
        "\n",
        "```\n",
        "score=80\n",
        "if score >= 60:\n",
        "  message = \"success\"\n",
        "else:\n",
        "  message = \"failure\"\n",
        "```"
      ]
    },
    {
      "cell_type": "code",
      "metadata": {
        "id": "Jsrj7XeR8kYd",
        "colab_type": "code",
        "colab": {}
      },
      "source": [
        "score=80\n",
        "message = \"success\" if score >= 60 else \"failure\"\n",
        "#이건 파이썬의 조건부 표현식을 사용해보면 \n",
        "#message = \"success\" if score >= 60 else \"failure\"라는 결과가 나온다.\n",
        "#조건부 표현식이란 '조건문이 참인 경우 if 조건문 else 조건문이 거짓인 경우\"로 정의하기 때문이다."
      ],
      "execution_count": 0,
      "outputs": []
    },
    {
      "cell_type": "markdown",
      "metadata": {
        "id": "hrKpHr5_C-tC",
        "colab_type": "text"
      },
      "source": [
        "### 문제7.\n",
        "> 다음 코드의 실행 결과는?\n",
        "\n",
        "```\n",
        "games = [\"a\", \"b\", \"c\"] \n",
        "for cnt in range(len(games)):\n",
        "  print(cnt, games[cnt], end=',')\n",
        "```"
      ]
    },
    {
      "cell_type": "code",
      "metadata": {
        "id": "jXZuBUYPCCFR",
        "colab_type": "code",
        "colab": {
          "base_uri": "https://localhost:8080/",
          "height": 36
        },
        "outputId": "608cbbf6-5272-467b-c61f-ca2365bc2739"
      },
      "source": [
        "games = [\"A\", \"B\", \"C\"] \n",
        "for cnt in range(len(games)):\n",
        "  print(cnt, games[cnt], end=',')\n",
        "# len은 0부터 시작하고 games는 A, B, C까지 있다.\n",
        "# 따라서 0 A 1 B 2 C  이렇게 출력되며,\n",
        "# 줄을 바꿀 때 end=','가 있기 때문에 , 뒤에 다음 결과값이 출력된다. "
      ],
      "execution_count": 12,
      "outputs": [
        {
          "output_type": "stream",
          "text": [
            "0 A,1 B,2 C,"
          ],
          "name": "stdout"
        }
      ]
    },
    {
      "cell_type": "markdown",
      "metadata": {
        "id": "X4vgIWVdGb32",
        "colab_type": "text"
      },
      "source": [
        "### 문제8.\n",
        "> 다음 결과가 출력되지 않는 것은?\n",
        "```\n",
        "'I ate 10 apples, so I was sick for three days.'\n",
        "code start\n",
        "number = 10\n",
        "day = \"three\"\n",
        "```"
      ]
    },
    {
      "cell_type": "code",
      "metadata": {
        "id": "ClbfvPy2Gxjv",
        "colab_type": "code",
        "colab": {
          "base_uri": "https://localhost:8080/",
          "height": 36
        },
        "outputId": "6d18b913-313d-4b94-bb0b-8ac310e2d6c7"
      },
      "source": [
        "#code start\n",
        "number = 10\n",
        "day = \"three\"\n",
        "\"I ate {0} apples. so I was sick for {1} days.\".format(10, day)"
      ],
      "execution_count": 17,
      "outputs": [
        {
          "output_type": "execute_result",
          "data": {
            "text/plain": [
              "'I ate 10 apples. so I was sick for three days.'"
            ]
          },
          "metadata": {
            "tags": []
          },
          "execution_count": 17
        }
      ]
    },
    {
      "cell_type": "code",
      "metadata": {
        "id": "Y8Wem2zhHL6f",
        "colab_type": "code",
        "colab": {
          "base_uri": "https://localhost:8080/",
          "height": 36
        },
        "outputId": "74c46fe2-6ec5-4d15-d802-9fb87622340e"
      },
      "source": [
        "#code start\n",
        "number = 10\n",
        "day = \"three\"\n",
        "f\"I ate {number} apples. so I was sick for {day} days.\""
      ],
      "execution_count": 18,
      "outputs": [
        {
          "output_type": "execute_result",
          "data": {
            "text/plain": [
              "'I ate 10 apples. so I was sick for three days.'"
            ]
          },
          "metadata": {
            "tags": []
          },
          "execution_count": 18
        }
      ]
    },
    {
      "cell_type": "code",
      "metadata": {
        "id": "uEcah1aKHwDx",
        "colab_type": "code",
        "colab": {
          "base_uri": "https://localhost:8080/",
          "height": 36
        },
        "outputId": "7d6950fa-a04e-4d72-f553-3f61cb06ba88"
      },
      "source": [
        "#code start\n",
        "number = 10\n",
        "day = \"three\"\n",
        "f\"I ate {number} apples. so I was sick for {'three'} days.\""
      ],
      "execution_count": 19,
      "outputs": [
        {
          "output_type": "execute_result",
          "data": {
            "text/plain": [
              "'I ate 10 apples. so I was sick for three days.'"
            ]
          },
          "metadata": {
            "tags": []
          },
          "execution_count": 19
        }
      ]
    },
    {
      "cell_type": "code",
      "metadata": {
        "id": "IAuCGIx3H4lG",
        "colab_type": "code",
        "colab": {
          "base_uri": "https://localhost:8080/",
          "height": 232
        },
        "outputId": "07d4c01d-7f77-4758-8aa3-3c429bb87b99"
      },
      "source": [
        "#code start\n",
        "number = 10\n",
        "day = \"three\"\n",
        "\"I ate {0} apples. so I was sick for {1} days.\".format(number=10, day)\n",
        "# SyntaxError: positional argument follows keyword argument\n",
        "#2번째 줄에서 number = 10을 지정해#code start\n",
        "number = 10\n",
        "day = \"three\"\n",
        "\"I ate {0} apples. so I was sick for {1} days.\".format(number=10, day)\n",
        "# SyntaxError: positional argument follows keyword argument\n",
        "#2번째 줄에서 number = 10을 지정해놓았기 때문에 format(number=10, day)이 아니라 format(number, day)라고 해야 오류가 안난다."
      ],
      "execution_count": 39,
      "outputs": [
        {
          "output_type": "error",
          "ename": "IndexError",
          "evalue": "ignored",
          "traceback": [
            "\u001b[0;31m---------------------------------------------------------------------------\u001b[0m",
            "\u001b[0;31mIndexError\u001b[0m                                Traceback (most recent call last)",
            "\u001b[0;32m<ipython-input-39-848977ce18c4>\u001b[0m in \u001b[0;36m<module>\u001b[0;34m()\u001b[0m\n\u001b[1;32m      1\u001b[0m \u001b[0mnumber\u001b[0m \u001b[0;34m=\u001b[0m \u001b[0;36m10\u001b[0m\u001b[0;34m\u001b[0m\u001b[0;34m\u001b[0m\u001b[0m\n\u001b[1;32m      2\u001b[0m \u001b[0mday\u001b[0m \u001b[0;34m=\u001b[0m \u001b[0;34m\"three\"\u001b[0m\u001b[0;34m\u001b[0m\u001b[0;34m\u001b[0m\u001b[0m\n\u001b[0;32m----> 3\u001b[0;31m \u001b[0;34m\"I ate {0} apples. so I was sick for {1} days.\"\u001b[0m\u001b[0;34m.\u001b[0m\u001b[0mformat\u001b[0m\u001b[0;34m(\u001b[0m\u001b[0mnumber\u001b[0m\u001b[0;34m=\u001b[0m\u001b[0;36m10\u001b[0m\u001b[0;34m,\u001b[0m \u001b[0mday\u001b[0m\u001b[0;34m=\u001b[0m \u001b[0;34m\"three\"\u001b[0m\u001b[0;34m)\u001b[0m\u001b[0;34m\u001b[0m\u001b[0;34m\u001b[0m\u001b[0m\n\u001b[0m\u001b[1;32m      4\u001b[0m \u001b[0;31m# SyntaxError: positional argument follows keyword argument\u001b[0m\u001b[0;34m\u001b[0m\u001b[0;34m\u001b[0m\u001b[0;34m\u001b[0m\u001b[0m\n",
            "\u001b[0;31mIndexError\u001b[0m: tuple index out of range"
          ]
        }
      ]
    },
    {
      "cell_type": "markdown",
      "metadata": {
        "id": "JU9y9NKAMZuV",
        "colab_type": "text"
      },
      "source": [
        "### 문제9.\n",
        "> 리스트 내포를 사용해 1부터 1000이하의 자연수 중의 5의 배수의 합을 구하는 한 줄 코드를 작성하시오.\n",
        "\n",
        "```\n",
        "5 + 10 + 15 + ..... + 955 + 960 + 965 + .... + 995 + 1000 = ?\n",
        "```"
      ]
    },
    {
      "cell_type": "code",
      "metadata": {
        "id": "WlAk5ikHJQXA",
        "colab_type": "code",
        "colab": {
          "base_uri": "https://localhost:8080/",
          "height": 36
        },
        "outputId": "89fd741a-9975-435d-fd2d-043542a7b928"
      },
      "source": [
        "sum([num for num in range(1,1001) if num % 5==0])\n",
        "# 1부터 1000이하의 자연수이기 때문에 1001까지 범위를 정해놓고\n",
        "# 5로 나누었을때 0으로 떨어지는 5의 배수만 다 더하는 것이기 때문에 sum을 사용한다."
      ],
      "execution_count": 29,
      "outputs": [
        {
          "output_type": "execute_result",
          "data": {
            "text/plain": [
              "100500"
            ]
          },
          "metadata": {
            "tags": []
          },
          "execution_count": 29
        }
      ]
    },
    {
      "cell_type": "markdown",
      "metadata": {
        "id": "tLt07VWkOEp_",
        "colab_type": "text"
      },
      "source": [
        "### 문제10.\n",
        "> 4개 과목의 평균 성적을 구하시오. [a], [b]에 적합한 코드는?\n",
        "```\n",
        "subjects = ['python', 'english', 'math', 'science']\n",
        "scores = [88, 77, 66, 95]\n",
        "total = 0\n",
        "for subject, score in ___(subjects, scores):\n",
        "    total += score\n",
        "    print(subject, score)\n",
        "print(\"평균 점수 = {0}\".format([b],______))\n",
        "```"
      ]
    },
    {
      "cell_type": "code",
      "metadata": {
        "id": "X7DMS7xwODzx",
        "colab_type": "code",
        "colab": {
          "base_uri": "https://localhost:8080/",
          "height": 111
        },
        "outputId": "60dcbea6-ee2b-4b7c-8b77-65758fb4ce3f"
      },
      "source": [
        "subjects = ['python', 'english', 'math', 'science']\n",
        "scores = [88, 77, 66, 95]\n",
        "total = 0\n",
        "for subject, score in zip(subjects, scores):  \n",
        "    total += score\n",
        "    print(subject, score)\n",
        "print(\"평균 점수 = {0}\".format(total/len(subjects)))\n",
        "# zip은 동일한 개수로 이루어진 자료형을 묶어 주는 역할을 하는 함수로\n",
        "# zip(subjects, scores)는 subjects, scores의 요소를 매핑해 각각의 튜플로 합쳐주는 역할을 한다.\n",
        "# 따라서 zip(subjects, scores)는 python 88, english 77, math 66, science 95로 만들어주는 역할을 한다.\n",
        "# [b]는 평균을 구하기 위해서는 4과목의 합인 total이 있어야하고,\n",
        "# len(subjects)은 리스트에 들어있는 원소 개수, 리스트의 크기를 알려주는 것이기 때문에 필요하다.\n",
        "# 따라서 total/len(subjects)는 total점수 나누기 4와 같다."
      ],
      "execution_count": 32,
      "outputs": [
        {
          "output_type": "stream",
          "text": [
            "python 88\n",
            "english 77\n",
            "math 66\n",
            "science 95\n",
            "평균 점수 = 81.5\n"
          ],
          "name": "stdout"
        }
      ]
    },
    {
      "cell_type": "code",
      "metadata": {
        "id": "7KAVbd9TQiDG",
        "colab_type": "code",
        "colab": {}
      },
      "source": [
        ""
      ],
      "execution_count": 0,
      "outputs": []
    }
  ]
}